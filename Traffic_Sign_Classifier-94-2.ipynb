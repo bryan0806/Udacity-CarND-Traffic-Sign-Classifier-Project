{
 "cells": [
  {
   "cell_type": "markdown",
   "metadata": {
    "deletable": true,
    "editable": true
   },
   "source": [
    "# Self-Driving Car Engineer Nanodegree\n",
    "\n",
    "## Deep Learning\n",
    "\n",
    "## Project: Build a Traffic Sign Recognition Classifier\n",
    "\n",
    "In this notebook, a template is provided for you to implement your functionality in stages, which is required to successfully complete this project. If additional code is required that cannot be included in the notebook, be sure that the Python code is successfully imported and included in your submission if necessary. \n",
    "\n",
    "> **Note**: Once you have completed all of the code implementations, you need to finalize your work by exporting the iPython Notebook as an HTML document. Before exporting the notebook to html, all of the code cells need to have been run so that reviewers can see the final implementation and output. You can then export the notebook by using the menu above and navigating to  \\n\",\n",
    "    \"**File -> Download as -> HTML (.html)**. Include the finished document along with this notebook as your submission. \n",
    "\n",
    "In addition to implementing code, there is a writeup to complete. The writeup should be completed in a separate file, which can be either a markdown file or a pdf document. There is a [write up template](https://github.com/udacity/CarND-Traffic-Sign-Classifier-Project/blob/master/writeup_template.md) that can be used to guide the writing process. Completing the code template and writeup template will cover all of the [rubric points](https://review.udacity.com/#!/rubrics/481/view) for this project.\n",
    "\n",
    "The [rubric](https://review.udacity.com/#!/rubrics/481/view) contains \"Stand Out Suggestions\" for enhancing the project beyond the minimum requirements. The stand out suggestions are optional. If you decide to pursue the \"stand out suggestions\", you can include the code in this Ipython notebook and also discuss the results in the writeup file.\n",
    "\n",
    "\n",
    ">**Note:** Code and Markdown cells can be executed using the **Shift + Enter** keyboard shortcut. In addition, Markdown cells can be edited by typically double-clicking the cell to enter edit mode."
   ]
  },
  {
   "cell_type": "markdown",
   "metadata": {
    "deletable": true,
    "editable": true
   },
   "source": [
    "---\n",
    "## Step 0: Load The Data"
   ]
  },
  {
   "cell_type": "code",
   "execution_count": 1,
   "metadata": {
    "collapsed": false,
    "deletable": true,
    "editable": true
   },
   "outputs": [],
   "source": [
    "# Load pickled data\n",
    "import pickle\n",
    "import pandas as pd\n",
    "import numpy as np\n",
    "import random\n",
    "import matplotlib.pyplot as plt\n",
    "from sklearn.utils import shuffle\n",
    "# TODO: Fill this in based on where you saved the training and testing data\n",
    "\n",
    "training_file = \"train.p\"\n",
    "validation_file= \"valid.p\"\n",
    "testing_file = \"test.p\"\n",
    "\n",
    "with open(training_file, mode='rb') as f:\n",
    "    train = pickle.load(f)\n",
    "with open(validation_file, mode='rb') as f:\n",
    "    valid = pickle.load(f)\n",
    "with open(testing_file, mode='rb') as f:\n",
    "    test = pickle.load(f)\n",
    "    \n",
    "X_train, y_train = train['features'], train['labels']\n",
    "X_valid, y_valid = valid['features'], valid['labels']\n",
    "X_test, y_test = test['features'], test['labels']"
   ]
  },
  {
   "cell_type": "code",
   "execution_count": 2,
   "metadata": {
    "collapsed": false,
    "deletable": true,
    "editable": true
   },
   "outputs": [
    {
     "name": "stdout",
     "output_type": "stream",
     "text": [
      "29\n",
      "34\n"
     ]
    }
   ],
   "source": [
    "# check data\n",
    "index = random.randint(0, len(X_train))\n",
    "index2 = random.randint(0, len(X_train))\n",
    "#print(\"the length of x train is \", len(X_train))\n",
    "image = X_train[index].squeeze()\n",
    "image2 = X_train[index2].squeeze()\n",
    "#print(image[0][0][0])\n",
    "\n",
    "#def rgb2gray2(rgb):\n",
    "#    return np.dot(rgb[...,:3], [0.299, 0.587, 0.114])\n",
    "\n",
    "plt.figure(figsize=(1,1))   \n",
    "plt.imshow(image)\n",
    "\n",
    "\n",
    "plt.figure(figsize=(1,1))\n",
    "plt.imshow(image2)\n",
    "\n",
    "\n",
    "print(y_train[index])\n",
    "print(y_train[index2])\n",
    "\n"
   ]
  },
  {
   "cell_type": "markdown",
   "metadata": {
    "deletable": true,
    "editable": true
   },
   "source": [
    "---\n",
    "\n",
    "## Step 1: Dataset Summary & Exploration\n",
    "\n",
    "The pickled data is a dictionary with 4 key/value pairs:\n",
    "\n",
    "- `'features'` is a 4D array containing raw pixel data of the traffic sign images, (num examples, width, height, channels).\n",
    "- `'labels'` is a 1D array containing the label/class id of the traffic sign. The file `signnames.csv` contains id -> name mappings for each id.\n",
    "- `'sizes'` is a list containing tuples, (width, height) representing the original width and height the image.\n",
    "- `'coords'` is a list containing tuples, (x1, y1, x2, y2) representing coordinates of a bounding box around the sign in the image. **THESE COORDINATES ASSUME THE ORIGINAL IMAGE. THE PICKLED DATA CONTAINS RESIZED VERSIONS (32 by 32) OF THESE IMAGES**\n",
    "\n",
    "Complete the basic data summary below. Use python, numpy and/or pandas methods to calculate the data summary rather than hard coding the results. For example, the [pandas shape method](http://pandas.pydata.org/pandas-docs/stable/generated/pandas.DataFrame.shape.html) might be useful for calculating some of the summary results. "
   ]
  },
  {
   "cell_type": "markdown",
   "metadata": {
    "deletable": true,
    "editable": true
   },
   "source": [
    "### Provide a Basic Summary of the Data Set Using Python, Numpy and/or Pandas"
   ]
  },
  {
   "cell_type": "code",
   "execution_count": 3,
   "metadata": {
    "collapsed": false,
    "deletable": true,
    "editable": true
   },
   "outputs": [
    {
     "name": "stdout",
     "output_type": "stream",
     "text": [
      "Number of training examples = 34799\n",
      "Number of y training examples = 34799\n",
      "Number of testing examples = 12630\n",
      "Image data shape = (32, 32, 3)\n",
      "Valid data shape = (32, 32, 3)\n",
      "Number of classes = 43\n",
      "max index is  2\n",
      "min index is  0\n",
      "\n",
      "repeat needed times is\n",
      "[1830, 30, 0, 750, 240, 360, 1650, 720, 750, 690, 210, 840, 120, 90, 1320, 1470, 1650, 1020, 930, 1830, 1710, 1740, 1680, 1560, 1770, 660, 1470, 1800, 1530, 1770, 1620, 1320, 1800, 1411, 1650, 930, 1680, 1830, 150, 1740, 1710, 1800, 1800]\n",
      "y train times  [(0, 180), (19, 180), (37, 180), (27, 210), (32, 210), (41, 210), (42, 210), (24, 240), (29, 240), (21, 270), (39, 270), (20, 300), (40, 300), (22, 330), (36, 330), (6, 360), (16, 360), (34, 360), (30, 390), (23, 450), (28, 480), (15, 540), (26, 540), (33, 599), (14, 690), (31, 690), (17, 990), (18, 1080), (35, 1080), (11, 1170), (3, 1260), (8, 1260), (7, 1290), (9, 1320), (25, 1350), (5, 1650), (4, 1770), (10, 1800), (38, 1860), (12, 1890), (13, 1920), (1, 1980), (2, 2010)]\n"
     ]
    },
    {
     "data": {
      "image/png": "[encoded data removed]",
      "text/plain": [
       "<matplotlib.figure.Figure at 0x7f272fd6a2e8>"
      ]
     },
     "metadata": {},
     "output_type": "display_data"
    }
   ],
   "source": [
    "### Replace each question mark with the appropriate value. \n",
    "### Use python, pandas or numpy methods rather than hard coding the results\n",
    "import matplotlib.pyplot as plt\n",
    "# Visualizations will be shown in the notebook.\n",
    "%matplotlib inline\n",
    "\n",
    "# TODO: Number of training examples\n",
    "n_train = len(X_train)\n",
    "n_y_train = len(y_train)\n",
    "# TODO: Number of testing examples.\n",
    "n_test = len(X_test)\n",
    "\n",
    "# TODO: What's the shape of an traffic sign image?\n",
    "image_shape = X_train[0].shape\n",
    "valid_shape = X_valid[3].shape\n",
    "# TODO: How many unique classes/labels there are in the dataset.\n",
    "n_classes = len(set(y_train))\n",
    "\n",
    "print(\"Number of training examples =\", n_train)\n",
    "print(\"Number of y training examples =\", n_y_train)\n",
    "print(\"Number of testing examples =\", n_test)\n",
    "print(\"Image data shape =\", image_shape)\n",
    "print(\"Valid data shape =\", valid_shape)\n",
    "print(\"Number of classes =\", n_classes)\n",
    "\n",
    "# Find the times of each sign appearance in training set\n",
    "unique, counts = np.unique(y_train, return_counts=True)\n",
    "dict_count = dict(zip(unique, counts))\n",
    "\n",
    "max_idx = max(dict_count,key=dict_count.get)\n",
    "print(\"max index is \", max(dict_count,key=dict_count.get))\n",
    "\n",
    "min_idx = min(dict_count,key=dict_count.get)\n",
    "print(\"min index is \", min(dict_count,key=dict_count.get))\n",
    "\n",
    "repeat_times = []\n",
    "counts_graph = []\n",
    "for v in dict_count:\n",
    "    times = dict_count[max_idx]-dict_count[v]\n",
    "    counts_graph.append(dict_count[v])\n",
    "    repeat_times.append(times)\n",
    "    \n",
    "    \n",
    "plt.bar(range(43),counts_graph)\n",
    "plt.savefig('chart1.png')\n",
    "print()\n",
    "print(\"repeat needed times is\")\n",
    "print(repeat_times)\n",
    "\n",
    "\n",
    "import operator\n",
    "sorted_count = sorted(dict_count.items(), key=operator.itemgetter(1))\n",
    "print(\"y train times \",sorted_count)"
   ]
  },
  {
   "cell_type": "code",
   "execution_count": 4,
   "metadata": {
    "collapsed": false,
    "deletable": true,
    "editable": true
   },
   "outputs": [
    {
     "name": "stdout",
     "output_type": "stream",
     "text": [
      "max test index is  2\n",
      "min test index is  0\n",
      "\n",
      "test repeat needed times is\n",
      "[690, 30, 0, 300, 90, 120, 600, 300, 300, 270, 90, 330, 60, 30, 480, 540, 600, 390, 360, 690, 660, 660, 630, 600, 660, 270, 570, 690, 600, 660, 600, 480, 690, 540, 630, 360, 630, 690, 60, 660, 660, 690, 660]\n",
      "y test times  [(0, 60), (19, 60), (27, 60), (32, 60), (37, 60), (41, 60), (20, 90), (21, 90), (24, 90), (29, 90), (39, 90), (40, 90), (42, 90), (22, 120), (34, 120), (36, 120), (6, 150), (16, 150), (23, 150), (28, 150), (30, 150), (26, 180), (15, 210), (33, 210), (14, 270), (31, 270), (17, 360), (18, 390), (35, 390), (11, 420), (3, 450), (7, 450), (8, 450), (9, 480), (25, 480), (5, 630), (4, 660), (10, 660), (12, 690), (38, 690), (1, 720), (13, 720), (2, 750)]\n"
     ]
    },
    {
     "data": {
      "image/png": "[encoded data removed]",
      "text/plain": [
       "<matplotlib.figure.Figure at 0x7f276c1292e8>"
      ]
     },
     "metadata": {},
     "output_type": "display_data"
    }
   ],
   "source": [
    "# Visualizations will be shown in the notebook.\n",
    "%matplotlib inline\n",
    "\n",
    "# Find the times of each sign appearance in test set\n",
    "\n",
    "unique_t, counts_t = np.unique(y_test, return_counts=True)\n",
    "dict_count_test = dict(zip(unique_t, counts_t))\n",
    "\n",
    "max_test_idx = max(dict_count_test,key=dict_count_test.get)\n",
    "print(\"max test index is \", max(dict_count_test,key=dict_count_test.get))\n",
    "\n",
    "min_test_idx = min(dict_count_test,key=dict_count_test.get)\n",
    "print(\"min test index is \", min(dict_count_test,key=dict_count_test.get))\n",
    "\n",
    "test_repeat_times = []\n",
    "test_graph = []\n",
    "for v in dict_count_test:\n",
    "    test_graph.append(dict_count_test[v])\n",
    "    test_times = dict_count_test[max_test_idx]-dict_count_test[v]\n",
    "    test_repeat_times.append(test_times)\n",
    "\n",
    "print()\n",
    "print(\"test repeat needed times is\")\n",
    "print(test_repeat_times)\n",
    "plt.bar(range(43),test_graph)\n",
    "\n",
    "import operator\n",
    "test_sorted_count = sorted(dict_count_test.items(), key=operator.itemgetter(1))\n",
    "print(\"y test times \",test_sorted_count)"
   ]
  },
  {
   "cell_type": "markdown",
   "metadata": {
    "deletable": true,
    "editable": true
   },
   "source": [
    "### Include an exploratory visualization of the dataset"
   ]
  },
  {
   "cell_type": "markdown",
   "metadata": {
    "deletable": true,
    "editable": true
   },
   "source": [
    "Visualize the German Traffic Signs Dataset using the pickled file(s). This is open ended, suggestions include: plotting traffic sign images, plotting the count of each sign, etc.\n",
    "\n",
    "The [Matplotlib](http://matplotlib.org/) [examples](http://matplotlib.org/examples/index.html) and [gallery](http://matplotlib.org/gallery.html) pages are a great resource for doing visualizations in Python.\n",
    "\n",
    "**NOTE:** It's recommended you start with something simple first. If you wish to do more, come back to it after you've completed the rest of the sections."
   ]
  },
  {
   "cell_type": "code",
   "execution_count": 5,
   "metadata": {
    "collapsed": true,
    "deletable": true,
    "editable": true
   },
   "outputs": [],
   "source": [
    "### Data exploration visualization code goes here.\n",
    "### Feel free to use as many code cells as needed.\n",
    "\n",
    "# Visualizations will be shown in the notebook.\n",
    "%matplotlib inline\n",
    "\n",
    "import matplotlib.image as mpimg\n",
    "from skimage.color import rgb2gray\n",
    "import cv2"
   ]
  },
  {
   "cell_type": "code",
   "execution_count": 6,
   "metadata": {
    "collapsed": false,
    "deletable": true,
    "editable": true,
    "scrolled": true
   },
   "outputs": [
    {
     "name": "stdout",
     "output_type": "stream",
     "text": [
      "1\n",
      "1\n",
      "38\n",
      "8\n",
      "10\n",
      "38\n",
      "25\n"
     ]
    },
    {
     "name": "stderr",
     "output_type": "stream",
     "text": [
      "/home/carnd/anaconda3/envs/carnd-term1/lib/python3.5/site-packages/matplotlib/pyplot.py:524: RuntimeWarning: More than 20 figures have been opened. Figures created through the pyplot interface (`matplotlib.pyplot.figure`) are retained until explicitly closed and may consume too much memory. (To control this warning, see the rcParam `figure.max_open_warning`).\n",
      "  max_open_warning, RuntimeWarning)\n"
     ]
    },
    {
     "name": "stdout",
     "output_type": "stream",
     "text": [
      "2\n",
      "18\n",
      "4\n",
      "the length of x train is  34799\n"
     ]
    },
    {
     "data": {
      "image/png": "[encoded data removed]",
      "text/plain": [
       "<matplotlib.figure.Figure at 0x7f272fdae940>"
      ]
     },
     "metadata": {},
     "output_type": "display_data"
    },
    {
     "data": {
      "image/png": "[encoded data removed]",
      "text/plain": [
       "<matplotlib.figure.Figure at 0x7f272f14e9b0>"
      ]
     },
     "metadata": {},
     "output_type": "display_data"
    },
    {
     "data": {
      "image/png": "[encoded data removed]",
      "text/plain": [
       "<matplotlib.figure.Figure at 0x7f272bf7de80>"
      ]
     },
     "metadata": {},
     "output_type": "display_data"
    },
    {
     "data": {
      "image/png": "[encoded data removed]",
      "text/plain": [
       "<matplotlib.figure.Figure at 0x7f2715b0bfd0>"
      ]
     },
     "metadata": {},
     "output_type": "display_data"
    },
    {
     "data": {
      "image/png": "[encoded data removed]",
      "text/plain": [
       "<matplotlib.figure.Figure at 0x7f2715a56d68>"
      ]
     },
     "metadata": {},
     "output_type": "display_data"
    },
    {
     "data": {
      "image/png": "[encoded data removed]",
      "text/plain": [
       "<matplotlib.figure.Figure at 0x7f2715a2f080>"
      ]
     },
     "metadata": {},
     "output_type": "display_data"
    },
    {
     "data": {
      "image/png": "[encoded data removed]",
      "text/plain": [
       "<matplotlib.figure.Figure at 0x7f27159f3be0>"
      ]
     },
     "metadata": {},
     "output_type": "display_data"
    },
    {
     "data": {
      "image/png": "[encoded data removed]",
      "text/plain": [
       "<matplotlib.figure.Figure at 0x7f27159c5f28>"
      ]
     },
     "metadata": {},
     "output_type": "display_data"
    },
    {
     "data": {
      "image/png": "[encoded data removed]",
      "text/plain": [
       "<matplotlib.figure.Figure at 0x7f271598f8d0>"
      ]
     },
     "metadata": {},
     "output_type": "display_data"
    },
    {
     "data": {
      "image/png": "[encoded data removed]",
      "text/plain": [
       "<matplotlib.figure.Figure at 0x7f27158e2c88>"
      ]
     },
     "metadata": {},
     "output_type": "display_data"
    },
    {
     "data": {
      "image/png": "[encoded data removed]",
      "text/plain": [
       "<matplotlib.figure.Figure at 0x7f27158ad6d8>"
      ]
     },
     "metadata": {},
     "output_type": "display_data"
    },
    {
     "data": {
      "image/png": "[encoded data removed]",
      "text/plain": [
       "<matplotlib.figure.Figure at 0x7f27158809b0>"
      ]
     },
     "metadata": {},
     "output_type": "display_data"
    },
    {
     "data": {
      "image/png": "[encoded data removed]",
      "text/plain": [
       "<matplotlib.figure.Figure at 0x7f271584a550>"
      ]
     },
     "metadata": {},
     "output_type": "display_data"
    },
    {
     "data": {
      "image/png": "[encoded data removed]",
      "text/plain": [
       "<matplotlib.figure.Figure at 0x7f271579c898>"
      ]
     },
     "metadata": {},
     "output_type": "display_data"
    },
    {
     "data": {
      "image/png": "[encoded data removed]",
      "text/plain": [
       "<matplotlib.figure.Figure at 0x7f2715766240>"
      ]
     },
     "metadata": {},
     "output_type": "display_data"
    },
    {
     "data": {
      "image/png": "[encoded data removed]",
      "text/plain": [
       "<matplotlib.figure.Figure at 0x7f27157395f8>"
      ]
     },
     "metadata": {},
     "output_type": "display_data"
    },
    {
     "data": {
      "image/png": "[encoded data removed]",
      "text/plain": [
       "<matplotlib.figure.Figure at 0x7f272fcaeb70>"
      ]
     },
     "metadata": {},
     "output_type": "display_data"
    },
    {
     "data": {
      "image/png": "[encoded data removed]",
      "text/plain": [
       "<matplotlib.figure.Figure at 0x7f272fd6a588>"
      ]
     },
     "metadata": {},
     "output_type": "display_data"
    },
    {
     "data": {
      "image/png": "[encoded data removed]",
      "text/plain": [
       "<matplotlib.figure.Figure at 0x7f276c1c3438>"
      ]
     },
     "metadata": {},
     "output_type": "display_data"
    },
    {
     "data": {
      "image/png": "[encoded data removed]",
      "text/plain": [
       "<matplotlib.figure.Figure at 0x7f27156f6ac8>"
      ]
     },
     "metadata": {},
     "output_type": "display_data"
    },
    {
     "data": {
      "image/png": "[encoded data removed]",
      "text/plain": [
       "<matplotlib.figure.Figure at 0x7f27156bec88>"
      ]
     },
     "metadata": {},
     "output_type": "display_data"
    },
    {
     "data": {
      "image/png": "[encoded data removed]",
      "text/plain": [
       "<matplotlib.figure.Figure at 0x7f27155e3160>"
      ]
     },
     "metadata": {},
     "output_type": "display_data"
    },
    {
     "data": {
      "image/png": "[encoded data removed]",
      "text/plain": [
       "<matplotlib.figure.Figure at 0x7f27155a6d30>"
      ]
     },
     "metadata": {},
     "output_type": "display_data"
    },
    {
     "data": {
      "image/png": "[encoded data removed]",
      "text/plain": [
       "<matplotlib.figure.Figure at 0x7f271557e4e0>"
      ]
     },
     "metadata": {},
     "output_type": "display_data"
    },
    {
     "data": {
      "image/png": "[encoded data removed]",
      "text/plain": [
       "<matplotlib.figure.Figure at 0x7f2715549710>"
      ]
     },
     "metadata": {},
     "output_type": "display_data"
    },
    {
     "data": {
      "image/png": "[encoded data removed]",
      "text/plain": [
       "<matplotlib.figure.Figure at 0x7f271549aac8>"
      ]
     },
     "metadata": {},
     "output_type": "display_data"
    },
    {
     "data": {
      "image/png": "[encoded data removed]",
      "text/plain": [
       "<matplotlib.figure.Figure at 0x7f2715465940>"
      ]
     },
     "metadata": {},
     "output_type": "display_data"
    },
    {
     "data": {
      "image/png": "[encoded data removed]",
      "text/plain": [
       "<matplotlib.figure.Figure at 0x7f2715438eb8>"
      ]
     },
     "metadata": {},
     "output_type": "display_data"
    },
    {
     "data": {
      "image/png": "[encoded data removed]",
      "text/plain": [
       "<matplotlib.figure.Figure at 0x7f27153fe9b0>"
      ]
     },
     "metadata": {},
     "output_type": "display_data"
    },
    {
     "data": {
      "image/png": "[encoded data removed]",
      "text/plain": [
       "<matplotlib.figure.Figure at 0x7f2715359160>"
      ]
     },
     "metadata": {},
     "output_type": "display_data"
    }
   ],
   "source": [
    "#ALL IMAGE normalization function\n",
    "def All_color_normalize(rgb):\n",
    "    \n",
    "    img_yuv = cv2.cvtColor(rgb,cv2.COLOR_BGR2YUV)\n",
    "    \n",
    "    #historam equalization\n",
    "    img_yuv[:,:,0] = cv2.equalizeHist(img_yuv[:,:,0])\n",
    "    \n",
    "    img_output = cv2.cvtColor(img_yuv,cv2.COLOR_YUV2BGR)\n",
    "    \n",
    "    image_shape = img_output.shape\n",
    "    #print(\"image shape\",image_shape)\n",
    "    \n",
    "    return img_output\n",
    "\n",
    "def All_color_normalize2(rgb):\n",
    "    \n",
    "    b,g,r = cv2.split(rgb)\n",
    "    \n",
    "    #historam equalization\n",
    "    blue = cv2.equalizeHist(b)\n",
    "    green = cv2.equalizeHist(g)\n",
    "    red = cv2.equalizeHist(r)\n",
    "    \n",
    "    img_output = cv2.merge((blue,green,red))\n",
    "    \n",
    "    image_shape = img_output.shape\n",
    "    #print(\"image shape\",image_shape)\n",
    "    \n",
    "    return img_output\n",
    "\n",
    "\n",
    "def transform_image(img,ang_range,shear_range,trans_range):\n",
    "    '''\n",
    "    This function transforms images to generate new images.\n",
    "    The function takes in following arguments,\n",
    "    1- Image\n",
    "    2- ang_range: Range of angles for rotation\n",
    "    3- shear_range: Range of values to apply affine transform to\n",
    "    4- trans_range: Range of values to apply translations over. \n",
    "    \n",
    "    A Random uniform distribution is used to generate different parameters for transformation\n",
    "    \n",
    "    '''\n",
    "    # Rotation\n",
    "\n",
    "    ang_rot = np.random.uniform(ang_range)-ang_range/2\n",
    "    rows,cols,ch = img.shape    \n",
    "    Rot_M = cv2.getRotationMatrix2D((cols/2,rows/2),ang_rot,1)\n",
    "\n",
    "    # Translation\n",
    "    tr_x = trans_range*np.random.uniform()-trans_range/2\n",
    "    tr_y = trans_range*np.random.uniform()-trans_range/2\n",
    "    Trans_M = np.float32([[1,0,tr_x],[0,1,tr_y]])\n",
    "\n",
    "    # Shear\n",
    "    pts1 = np.float32([[5,5],[20,5],[5,20]])\n",
    "\n",
    "    pt1 = 5+shear_range*np.random.uniform()-shear_range/2\n",
    "    pt2 = 20+shear_range*np.random.uniform()-shear_range/2\n",
    "    \n",
    "    # Brightness \n",
    "    \n",
    "\n",
    "    pts2 = np.float32([[pt1,5],[pt2,pt1],[5,pt2]])\n",
    "\n",
    "    shear_M = cv2.getAffineTransform(pts1,pts2)\n",
    "        \n",
    "    img = cv2.warpAffine(img,Rot_M,(cols,rows))\n",
    "    img = cv2.warpAffine(img,Trans_M,(cols,rows))\n",
    "    img = cv2.warpAffine(img,shear_M,(cols,rows))\n",
    "    \n",
    "    #img = augment_brightness_camera_images(img)\n",
    "    \n",
    "    return img\n",
    "\n",
    "\n",
    "for i in range(0,10):\n",
    "    index = random.randint(0, len(X_test))\n",
    "    image = X_test[index]\n",
    "    img = transform_image(image,10,10,5)\n",
    "    img2 = All_color_normalize2(image)\n",
    "    plt.figure(figsize=(1,1))\n",
    "    plt.imshow(image)\n",
    "    plt.figure(figsize=(1,1))\n",
    "    plt.imshow(img)\n",
    "    plt.figure(figsize=(1,1))\n",
    "    plt.imshow(img2)\n",
    "    print(y_test[index])\n",
    "    \n",
    "print(\"the length of x train is \", len(X_train))\n",
    "\n",
    "#print(image[0][0][0])\n",
    "\n",
    "\n",
    "\n",
    "\n",
    "\n",
    "\n",
    "\n"
   ]
  },
  {
   "cell_type": "code",
   "execution_count": 7,
   "metadata": {
    "collapsed": false,
    "deletable": true,
    "editable": true
   },
   "outputs": [
    {
     "name": "stdout",
     "output_type": "stream",
     "text": [
      "12\n",
      "7\n",
      "\n",
      "\n",
      "\n"
     ]
    },
    {
     "data": {
      "image/png": "[encoded data removed]",
      "text/plain": [
       "<matplotlib.figure.Figure at 0x7f2715266ac8>"
      ]
     },
     "metadata": {},
     "output_type": "display_data"
    },
    {
     "data": {
      "image/png": "[encoded data removed]",
      "text/plain": [
       "<matplotlib.figure.Figure at 0x7f27152ca278>"
      ]
     },
     "metadata": {},
     "output_type": "display_data"
    },
    {
     "data": {
      "image/png": "[encoded data removed]",
      "text/plain": [
       "<matplotlib.figure.Figure at 0x7f27151e5668>"
      ]
     },
     "metadata": {},
     "output_type": "display_data"
    },
    {
     "data": {
      "image/png": "[encoded data removed]",
      "text/plain": [
       "<matplotlib.figure.Figure at 0x7f2715405be0>"
      ]
     },
     "metadata": {},
     "output_type": "display_data"
    }
   ],
   "source": [
    "\n",
    "#Normalize RGB number\n",
    "def color_normalize(rgb):\n",
    "    \n",
    "    norm=np.zeros((32,32,3),np.float32)\n",
    "    norm_rgb=np.zeros((32,32,3),np.uint8)\n",
    "    \n",
    "    b=rgb[:,:,0]\n",
    "    g=rgb[:,:,1]\n",
    "    r=rgb[:,:,2]\n",
    "\n",
    "    sum=b+g+r\n",
    "\n",
    "    norm[:,:,0]=b/255.0\n",
    "    norm[:,:,1]=g/255.0\n",
    "    norm[:,:,2]=r/255.0\n",
    "\n",
    "    #norm_rgb=cv2.convertScaleAbs(norm)\n",
    "    return norm\n",
    "        \n",
    "\n",
    "index = random.randint(0, len(X_valid))\n",
    "index2 = random.randint(0, len(X_valid))\n",
    "\n",
    "image = X_valid[index]\n",
    "image2 = X_valid[index2]\n",
    "\n",
    "plt.figure(figsize=(1,1))\n",
    "plt.imshow(image)\n",
    "\n",
    "plt.figure(figsize=(1,1))\n",
    "plt.imshow(image2)\n",
    "\n",
    "image = color_normalize(image)\n",
    "image2 = color_normalize(image2)\n",
    "\n",
    "plt.figure(figsize=(1,1))\n",
    "plt.imshow(image)\n",
    "print(y_valid[index])\n",
    "\n",
    "plt.figure(figsize=(1,1))\n",
    "plt.imshow(image2)\n",
    "print(y_valid[index2])\n",
    "\n",
    "#print(image)\n",
    "print()\n",
    "print()\n",
    "print()\n",
    "#print(image2)"
   ]
  },
  {
   "cell_type": "code",
   "execution_count": 8,
   "metadata": {
    "collapsed": false,
    "deletable": true,
    "editable": true
   },
   "outputs": [],
   "source": [
    "#data argumenting\n",
    "def augment_brightness_camera_images(image):\n",
    "    image1 = cv2.cvtColor(image,cv2.COLOR_RGB2HSV)\n",
    "    random_bright = .25+np.random.uniform()\n",
    "    #print(random_bright)\n",
    "    image1[:,:,2] = image1[:,:,2]*random_bright\n",
    "    image1 = cv2.cvtColor(image1,cv2.COLOR_HSV2RGB)\n",
    "    return image1\n",
    "\n",
    "def transform_image(img,ang_range,shear_range,trans_range):\n",
    "    '''\n",
    "    This function transforms images to generate new images.\n",
    "    The function takes in following arguments,\n",
    "    1- Image\n",
    "    2- ang_range: Range of angles for rotation\n",
    "    3- shear_range: Range of values to apply affine transform to\n",
    "    4- trans_range: Range of values to apply translations over. \n",
    "    \n",
    "    A Random uniform distribution is used to generate different parameters for transformation\n",
    "    \n",
    "    '''\n",
    "    # Rotation\n",
    "\n",
    "    ang_rot = np.random.uniform(ang_range)-ang_range/2\n",
    "    rows,cols,ch = img.shape    \n",
    "    Rot_M = cv2.getRotationMatrix2D((cols/2,rows/2),ang_rot,1)\n",
    "\n",
    "    # Translation\n",
    "    tr_x = trans_range*np.random.uniform()-trans_range/2\n",
    "    tr_y = trans_range*np.random.uniform()-trans_range/2\n",
    "    Trans_M = np.float32([[1,0,tr_x],[0,1,tr_y]])\n",
    "\n",
    "    # Shear\n",
    "    pts1 = np.float32([[5,5],[20,5],[5,20]])\n",
    "\n",
    "    pt1 = 5+shear_range*np.random.uniform()-shear_range/2\n",
    "    pt2 = 20+shear_range*np.random.uniform()-shear_range/2\n",
    "    \n",
    "    # Brightness \n",
    "    \n",
    "\n",
    "    pts2 = np.float32([[pt1,5],[pt2,pt1],[5,pt2]])\n",
    "\n",
    "    shear_M = cv2.getAffineTransform(pts1,pts2)\n",
    "        \n",
    "    img = cv2.warpAffine(img,Rot_M,(cols,rows))\n",
    "    img = cv2.warpAffine(img,Trans_M,(cols,rows))\n",
    "    img = cv2.warpAffine(img,shear_M,(cols,rows))\n",
    "    \n",
    "    #img = augment_brightness_camera_images(img)\n",
    "    \n",
    "    return img\n"
   ]
  },
  {
   "cell_type": "code",
   "execution_count": 9,
   "metadata": {
    "collapsed": false,
    "deletable": true,
    "editable": true
   },
   "outputs": [
    {
     "name": "stdout",
     "output_type": "stream",
     "text": [
      "Image data shape = (32, 32, 3)\n",
      "<built-in function len>\n",
      "Number of training examples = 86388\n",
      "Number of testing examples = 12630\n",
      "Image data shape = (32, 32, 3)\n",
      "Valid data shape = (32, 32, 3)\n",
      "Number of classes = 43\n",
      "\n",
      "repeat needed times is\n",
      "[1, 1, 0, 1, 1, 1, 1, 1, 1, 1, 1, 1, 1, 1, 1, 1, 1, 1, 1, 1, 1, 1, 1, 1, 1, 1, 1, 1, 1, 1, 1, 1, 1, 1, 1, 1, 1, 1, 1, 1, 1, 1, 1]\n",
      "max index is  2\n",
      "min index is  0\n",
      "\n",
      "repeat needed times is\n",
      "[1, 1, 0, 1, 1, 1, 1, 1, 1, 1, 1, 1, 1, 1, 1, 1, 1, 1, 1, 1, 1, 1, 1, 1, 1, 1, 1, 1, 1, 1, 1, 1, 1, 1, 1, 1, 1, 1, 1, 1, 1, 1, 1]\n",
      "y train times  [(0, 2009), (1, 2009), (3, 2009), (4, 2009), (5, 2009), (6, 2009), (7, 2009), (8, 2009), (9, 2009), (10, 2009), (11, 2009), (12, 2009), (13, 2009), (14, 2009), (15, 2009), (16, 2009), (17, 2009), (18, 2009), (19, 2009), (20, 2009), (21, 2009), (22, 2009), (23, 2009), (24, 2009), (25, 2009), (26, 2009), (27, 2009), (28, 2009), (29, 2009), (30, 2009), (31, 2009), (32, 2009), (33, 2009), (34, 2009), (35, 2009), (36, 2009), (37, 2009), (38, 2009), (39, 2009), (40, 2009), (41, 2009), (42, 2009), (2, 2010)]\n"
     ]
    },
    {
     "data": {
      "image/png": "[encoded data removed]",
      "text/plain": [
       "<matplotlib.figure.Figure at 0x7f27154be048>"
      ]
     },
     "metadata": {},
     "output_type": "display_data"
    }
   ],
   "source": [
    "# Visualizations will be shown in the notebook.\n",
    "%matplotlib inline\n",
    "\n",
    "#transfer image / adding data set\n",
    "new_train = []\n",
    "new_train2 = []\n",
    "new_y_value=[]\n",
    "\n",
    "while(repeat_times[min_idx] > 10):\n",
    "    index = 0\n",
    "    for image in X_train:\n",
    "    #print(\"index is\",index)\n",
    "        sign = y_train[index]\n",
    "        #print(\"sign is\",sign)\n",
    "    \n",
    "        if(repeat_times[sign]-1>0):\n",
    "            new_image = transform_image(image,10,10,5)\n",
    "            new_train.append(new_image)\n",
    "            new_y_value.append(sign)\n",
    "            index += 1\n",
    "            repeat_times[sign] = repeat_times[sign]-1\n",
    "            #print(\"sign times remain \",repeat_times[sign])\n",
    "        else:\n",
    "            index += 1\n",
    "\n",
    "\n",
    "        \n",
    "#new_train_reshape = np.reshape(new_train,(-1,32,32,3))\n",
    "# TODO: What's the shape of an traffic sign image?\n",
    "image_shape = new_train[0].shape\n",
    "print(\"Image data shape =\", image_shape)\n",
    "#X_train = np.concatenate(X_train,new_train)\n",
    "X_train = np.append(X_train,new_train,axis=0)\n",
    "print(len)\n",
    "y_train = np.append(y_train,new_y_value,axis=0)\n",
    "# TODO: Number of training examples\n",
    "n_train = len(X_train)\n",
    "\n",
    "# TODO: Number of testing examples.\n",
    "n_test = len(X_test)\n",
    "\n",
    "# TODO: What's the shape of an traffic sign image?\n",
    "image_shape = X_train[40000].shape\n",
    "valid_shape = X_valid[3].shape\n",
    "# TODO: How many unique classes/labels there are in the dataset.\n",
    "n_classes = len(set(y_train))\n",
    "\n",
    "print(\"Number of training examples =\", n_train)\n",
    "print(\"Number of testing examples =\", n_test)\n",
    "print(\"Image data shape =\", image_shape)\n",
    "print(\"Valid data shape =\", valid_shape)\n",
    "print(\"Number of classes =\", n_classes)\n",
    "\n",
    "print()\n",
    "print(\"repeat needed times is\")\n",
    "print(repeat_times)\n",
    "\n",
    "# Find the times of each sign appearance in training set\n",
    "unique, counts = np.unique(y_train, return_counts=True)\n",
    "dict_count = dict(zip(unique, counts))\n",
    "\n",
    "max_idx = max(dict_count,key=dict_count.get)\n",
    "print(\"max index is \", max(dict_count,key=dict_count.get))\n",
    "\n",
    "min_idx = min(dict_count,key=dict_count.get)\n",
    "print(\"min index is \", min(dict_count,key=dict_count.get))\n",
    "\n",
    "repeat_times = []\n",
    "train_count = []\n",
    "for v in dict_count:\n",
    "    train_count.append(dict_count[v])\n",
    "    times = dict_count[max_idx]-dict_count[v]\n",
    "    repeat_times.append(times)\n",
    "\n",
    "print()\n",
    "print(\"repeat needed times is\")\n",
    "print(repeat_times)\n",
    "plt.bar(range(43),train_count)\n",
    "\n",
    "import operator\n",
    "sorted_count = sorted(dict_count.items(), key=operator.itemgetter(1))\n",
    "print(\"y train times \",sorted_count)\n"
   ]
  },
  {
   "cell_type": "code",
   "execution_count": 10,
   "metadata": {
    "collapsed": false,
    "deletable": true,
    "editable": true
   },
   "outputs": [
    {
     "data": {
      "text/plain": [
       "'\\n#transfer image / adding data set\\nnew_train = []\\nnew_y_value=[]\\n\\n#X_train, y_train = shuffle(X_train, y_train)\\n\\nwhile(len(new_train) < 15000):\\n    index = random.randint(0, 34798)\\n    sign = y_train[index]\\n    new_image = transform_image(image,10,10,5)\\n    new_train.append(new_image)\\n    new_y_value.append(sign)\\n    index += 1\\n    \\n            \\n       \\n\\n\\n        \\n#new_train_reshape = np.reshape(new_train,(-1,32,32,3))\\n# TODO: What\\'s the shape of an traffic sign image?\\nimage_shape = new_train[0].shape\\nprint(\"Image data shape =\", image_shape)\\n#X_train = np.concatenate(X_train,new_train)\\nX_train = np.append(X_train,new_train,axis=0)\\ny_train = np.append(y_train,new_y_value,axis=0)\\n# TODO: Number of training examples\\nn_train = len(X_train)\\n\\n# TODO: Number of testing examples.\\nn_test = len(X_test)\\n\\n# TODO: What\\'s the shape of an traffic sign image?\\nimage_shape = X_train[40000].shape\\nvalid_shape = X_valid[3].shape\\n# TODO: How many unique classes/labels there are in the dataset.\\nn_classes = len(set(y_train))\\n\\nprint(\"Number of training examples =\", n_train)\\nprint(\"Number of testing examples =\", n_test)\\nprint(\"Image data shape =\", image_shape)\\nprint(\"Valid data shape =\", valid_shape)\\nprint(\"Number of classes =\", n_classes)\\n\\n'"
      ]
     },
     "execution_count": 10,
     "metadata": {},
     "output_type": "execute_result"
    }
   ],
   "source": [
    "# For further adding training set to the desired amount\n",
    "\"\"\"\n",
    "#transfer image / adding data set\n",
    "new_train = []\n",
    "new_y_value=[]\n",
    "\n",
    "#X_train, y_train = shuffle(X_train, y_train)\n",
    "\n",
    "while(len(new_train) < 15000):\n",
    "    index = random.randint(0, 34798)\n",
    "    sign = y_train[index]\n",
    "    new_image = transform_image(image,10,10,5)\n",
    "    new_train.append(new_image)\n",
    "    new_y_value.append(sign)\n",
    "    index += 1\n",
    "    \n",
    "            \n",
    "       \n",
    "\n",
    "\n",
    "        \n",
    "#new_train_reshape = np.reshape(new_train,(-1,32,32,3))\n",
    "# TODO: What's the shape of an traffic sign image?\n",
    "image_shape = new_train[0].shape\n",
    "print(\"Image data shape =\", image_shape)\n",
    "#X_train = np.concatenate(X_train,new_train)\n",
    "X_train = np.append(X_train,new_train,axis=0)\n",
    "y_train = np.append(y_train,new_y_value,axis=0)\n",
    "# TODO: Number of training examples\n",
    "n_train = len(X_train)\n",
    "\n",
    "# TODO: Number of testing examples.\n",
    "n_test = len(X_test)\n",
    "\n",
    "# TODO: What's the shape of an traffic sign image?\n",
    "image_shape = X_train[40000].shape\n",
    "valid_shape = X_valid[3].shape\n",
    "# TODO: How many unique classes/labels there are in the dataset.\n",
    "n_classes = len(set(y_train))\n",
    "\n",
    "print(\"Number of training examples =\", n_train)\n",
    "print(\"Number of testing examples =\", n_test)\n",
    "print(\"Image data shape =\", image_shape)\n",
    "print(\"Valid data shape =\", valid_shape)\n",
    "print(\"Number of classes =\", n_classes)\n",
    "\n",
    "\"\"\""
   ]
  },
  {
   "cell_type": "code",
   "execution_count": 11,
   "metadata": {
    "collapsed": false,
    "deletable": true,
    "editable": true
   },
   "outputs": [
    {
     "data": {
      "text/plain": [
       "'\\n# Find the times of each sign appearance in training set\\nunique, counts = np.unique(y_train, return_counts=True)\\ndict_count = dict(zip(unique, counts))\\n\\nmax_idx = max(dict_count,key=dict_count.get)\\nprint(\"max index is \", max(dict_count,key=dict_count.get))\\n\\nmin_idx = min(dict_count,key=dict_count.get)\\nprint(\"min index is \", min(dict_count,key=dict_count.get))\\n\\nrepeat_times = []\\nfor v in dict_count:\\n    times = dict_count[max_idx]-dict_count[v]\\n    repeat_times.append(times)\\n\\nprint()\\nprint(\"repeat needed times is\")\\nprint(repeat_times)\\n\\n\\nimport operator\\nsorted_count = sorted(dict_count.items(), key=operator.itemgetter(1))\\nprint(\"y train times \",sorted_count)\\n\\nnew_train = []\\nnew_train2 = []\\nnew_y_value=[]\\n\\nwhile(repeat_times[min_idx] > 10):\\n    index = 0\\n    for image in X_train:\\n    #print(\"index is\",index)\\n        sign = y_train[index]\\n        #print(\"sign is\",sign)\\n    \\n        if(repeat_times[sign]-1>0):\\n            new_image = transform_image(image,10,10,5)\\n            new_train.append(new_image)\\n            new_y_value.append(sign)\\n            index += 1\\n            repeat_times[sign] = repeat_times[sign]-1\\n            #print(\"sign times remain \",repeat_times[sign])\\n        else:\\n            index += 1\\n\\n\\n        \\n#new_train_reshape = np.reshape(new_train,(-1,32,32,3))\\n# TODO: What\\'s the shape of an traffic sign image?\\nimage_shape = new_train[0].shape\\nprint(\"Image data shape =\", image_shape)\\n#X_train = np.concatenate(X_train,new_train)\\nX_train = np.append(X_train,new_train,axis=0)\\nprint(len)\\ny_train = np.append(y_train,new_y_value,axis=0)\\n# TODO: Number of training examples\\nn_train = len(X_train)\\n\\n# TODO: Number of testing examples.\\nn_test = len(X_test)\\n\\n# TODO: What\\'s the shape of an traffic sign image?\\nimage_shape = X_train[40000].shape\\nvalid_shape = X_valid[3].shape\\n# TODO: How many unique classes/labels there are in the dataset.\\nn_classes = len(set(y_train))\\n\\n\\n\\n\\nprint(\"Number of training examples =\", n_train)\\nprint(\"Number of testing examples =\", n_test)\\nprint(\"Image data shape =\", image_shape)\\nprint(\"Valid data shape =\", valid_shape)\\nprint(\"Number of classes =\", n_classes)\\n\\nprint()\\nprint(\"repeat needed times is\")\\nprint(repeat_times)\\n'"
      ]
     },
     "execution_count": 11,
     "metadata": {},
     "output_type": "execute_result"
    }
   ],
   "source": [
    "# To evenly distribute all different sign, here do again check the times\n",
    "\"\"\"\n",
    "# Find the times of each sign appearance in training set\n",
    "unique, counts = np.unique(y_train, return_counts=True)\n",
    "dict_count = dict(zip(unique, counts))\n",
    "\n",
    "max_idx = max(dict_count,key=dict_count.get)\n",
    "print(\"max index is \", max(dict_count,key=dict_count.get))\n",
    "\n",
    "min_idx = min(dict_count,key=dict_count.get)\n",
    "print(\"min index is \", min(dict_count,key=dict_count.get))\n",
    "\n",
    "repeat_times = []\n",
    "for v in dict_count:\n",
    "    times = dict_count[max_idx]-dict_count[v]\n",
    "    repeat_times.append(times)\n",
    "\n",
    "print()\n",
    "print(\"repeat needed times is\")\n",
    "print(repeat_times)\n",
    "\n",
    "\n",
    "import operator\n",
    "sorted_count = sorted(dict_count.items(), key=operator.itemgetter(1))\n",
    "print(\"y train times \",sorted_count)\n",
    "\n",
    "new_train = []\n",
    "new_train2 = []\n",
    "new_y_value=[]\n",
    "\n",
    "while(repeat_times[min_idx] > 10):\n",
    "    index = 0\n",
    "    for image in X_train:\n",
    "    #print(\"index is\",index)\n",
    "        sign = y_train[index]\n",
    "        #print(\"sign is\",sign)\n",
    "    \n",
    "        if(repeat_times[sign]-1>0):\n",
    "            new_image = transform_image(image,10,10,5)\n",
    "            new_train.append(new_image)\n",
    "            new_y_value.append(sign)\n",
    "            index += 1\n",
    "            repeat_times[sign] = repeat_times[sign]-1\n",
    "            #print(\"sign times remain \",repeat_times[sign])\n",
    "        else:\n",
    "            index += 1\n",
    "\n",
    "\n",
    "        \n",
    "#new_train_reshape = np.reshape(new_train,(-1,32,32,3))\n",
    "# TODO: What's the shape of an traffic sign image?\n",
    "image_shape = new_train[0].shape\n",
    "print(\"Image data shape =\", image_shape)\n",
    "#X_train = np.concatenate(X_train,new_train)\n",
    "X_train = np.append(X_train,new_train,axis=0)\n",
    "print(len)\n",
    "y_train = np.append(y_train,new_y_value,axis=0)\n",
    "# TODO: Number of training examples\n",
    "n_train = len(X_train)\n",
    "\n",
    "# TODO: Number of testing examples.\n",
    "n_test = len(X_test)\n",
    "\n",
    "# TODO: What's the shape of an traffic sign image?\n",
    "image_shape = X_train[40000].shape\n",
    "valid_shape = X_valid[3].shape\n",
    "# TODO: How many unique classes/labels there are in the dataset.\n",
    "n_classes = len(set(y_train))\n",
    "\n",
    "\n",
    "\n",
    "\n",
    "print(\"Number of training examples =\", n_train)\n",
    "print(\"Number of testing examples =\", n_test)\n",
    "print(\"Image data shape =\", image_shape)\n",
    "print(\"Valid data shape =\", valid_shape)\n",
    "print(\"Number of classes =\", n_classes)\n",
    "\n",
    "print()\n",
    "print(\"repeat needed times is\")\n",
    "print(repeat_times)\n",
    "\"\"\"\n"
   ]
  },
  {
   "cell_type": "code",
   "execution_count": 12,
   "metadata": {
    "collapsed": false,
    "deletable": true,
    "editable": true
   },
   "outputs": [
    {
     "data": {
      "text/plain": [
       "'\\nnew_test = []\\nnew_test_y_value=[]\\ntest_idx = len(X_train)/4\\n#print(\"test idx is \", test_idx)\\nwhile(test_repeat_times[min_test_idx] > 10 and test_idx >0):\\n    test_index = 0\\n    for image in X_test:\\n        #print(\"test index is\",test_index)\\n        test_sign = y_test[test_index]\\n        #print(\"test sign is\",test_sign)\\n        #print(\"test_idx is \", test_idx)\\n        if(test_repeat_times[test_sign]-1>0):\\n            new_test_image = transform_image(image,10,10,5)\\n            new_test.append(new_test_image)\\n            new_test_y_value.append(test_sign)\\n            test_index += 1\\n            test_repeat_times[test_sign] = test_repeat_times[test_sign]-1\\n            #print(\"sign times remain \",repeat_times[sign])\\n            test_idx = test_idx - 1\\n        else:\\n            test_index += 1\\n\\nprint()\\nprint(\"test repeat needed times is\")\\nprint(test_repeat_times)\\n\\n\\nX_test = np.append(X_test,new_test,axis=0)\\ny_test = np.append(y_test,new_test_y_value,axis=0)\\n\\n# TODO: Number of testing examples.\\nn_test = len(X_test)\\nprint(\"Number of testing examples =\", n_test)\\n\\n\\n# Find the times of each sign appearance in training set\\nunique, counts = np.unique(y_test, return_counts=True)\\ndict_count = dict(zip(unique, counts))\\n\\ntrain_count = []\\nfor v in dict_count:\\n    train_count.append(dict_count[v])\\n\\nplt.bar(range(43),train_count)\\n\\n'"
      ]
     },
     "execution_count": 12,
     "metadata": {},
     "output_type": "execute_result"
    }
   ],
   "source": [
    "#Adding test dataset with 1/4 X train set\n",
    "\"\"\"\n",
    "new_test = []\n",
    "new_test_y_value=[]\n",
    "test_idx = len(X_train)/4\n",
    "#print(\"test idx is \", test_idx)\n",
    "while(test_repeat_times[min_test_idx] > 10 and test_idx >0):\n",
    "    test_index = 0\n",
    "    for image in X_test:\n",
    "        #print(\"test index is\",test_index)\n",
    "        test_sign = y_test[test_index]\n",
    "        #print(\"test sign is\",test_sign)\n",
    "        #print(\"test_idx is \", test_idx)\n",
    "        if(test_repeat_times[test_sign]-1>0):\n",
    "            new_test_image = transform_image(image,10,10,5)\n",
    "            new_test.append(new_test_image)\n",
    "            new_test_y_value.append(test_sign)\n",
    "            test_index += 1\n",
    "            test_repeat_times[test_sign] = test_repeat_times[test_sign]-1\n",
    "            #print(\"sign times remain \",repeat_times[sign])\n",
    "            test_idx = test_idx - 1\n",
    "        else:\n",
    "            test_index += 1\n",
    "\n",
    "print()\n",
    "print(\"test repeat needed times is\")\n",
    "print(test_repeat_times)\n",
    "\n",
    "\n",
    "X_test = np.append(X_test,new_test,axis=0)\n",
    "y_test = np.append(y_test,new_test_y_value,axis=0)\n",
    "\n",
    "# TODO: Number of testing examples.\n",
    "n_test = len(X_test)\n",
    "print(\"Number of testing examples =\", n_test)\n",
    "\n",
    "\n",
    "# Find the times of each sign appearance in training set\n",
    "unique, counts = np.unique(y_test, return_counts=True)\n",
    "dict_count = dict(zip(unique, counts))\n",
    "\n",
    "train_count = []\n",
    "for v in dict_count:\n",
    "    train_count.append(dict_count[v])\n",
    "\n",
    "plt.bar(range(43),train_count)\n",
    "\n",
    "\"\"\""
   ]
  },
  {
   "cell_type": "code",
   "execution_count": 13,
   "metadata": {
    "collapsed": false
   },
   "outputs": [
    {
     "name": "stdout",
     "output_type": "stream",
     "text": [
      "max valid index is  1\n",
      "min test index is  0\n",
      "\n",
      "valid repeat needed times is\n",
      "[210, 0, 0, 90, 30, 30, 180, 90, 90, 90, 30, 90, 30, 0, 150, 150, 180, 120, 120, 210, 180, 180, 180, 180, 210, 90, 180, 210, 180, 210, 180, 150, 210, 150, 180, 120, 180, 210, 30, 210, 180, 210, 210]\n",
      "y valid times  [(0, 30), (19, 30), (24, 30), (27, 30), (29, 30), (32, 30), (37, 30), (39, 30), (41, 30), (42, 30), (6, 60), (16, 60), (20, 60), (21, 60), (22, 60), (23, 60), (26, 60), (28, 60), (30, 60), (34, 60), (36, 60), (40, 60), (14, 90), (15, 90), (31, 90), (33, 90), (17, 120), (18, 120), (35, 120), (3, 150), (7, 150), (8, 150), (9, 150), (11, 150), (25, 150), (4, 210), (5, 210), (10, 210), (12, 210), (38, 210), (1, 240), (2, 240), (13, 240)]\n"
     ]
    },
    {
     "data": {
      "text/plain": [
       "'\\nnew_valid = []\\nnew_valid_y_value=[]\\nvalid_idx = len(X_train)/3\\n#print(\"test idx is \", test_idx)\\nwhile(valid_repeat_times[min_valid_idx] > 10 and valid_idx >0):\\n    valid_index = 0\\n    for image in X_valid:\\n        #print(\"test index is\",test_index)\\n        valid_sign = y_valid[valid_index]\\n        #print(\"test sign is\",test_sign)\\n        #print(\"test_idx is \", test_idx)\\n        if(valid_repeat_times[valid_sign]-1>0):\\n            new_valid_image = transform_image(image,10,10,5)\\n            new_valid.append(new_valid_image)\\n            new_valid_y_value.append(valid_sign)\\n            valid_index += 1\\n            valid_repeat_times[valid_sign] = valid_repeat_times[valid_sign]-1\\n            #print(\"sign times remain \",repeat_times[sign])\\n            valid_idx = valid_idx - 1\\n        else:\\n            valid_index += 1\\n\\nprint()\\nprint(\"valid repeat needed times is\")\\nprint(valid_repeat_times)\\n\\n\\nX_valid = np.append(X_valid,new_valid,axis=0)\\ny_valid = np.append(y_valid,new_valid_y_value,axis=0)\\n\\n# TODO: Number of testing examples.\\nn_valid = len(X_valid)\\nprint(\"Number of valid examples =\", n_valid)\\n\\n\\n# Find the times of each sign appearance in training set\\nunique, counts = np.unique(y_valid, return_counts=True)\\ndict_count = dict(zip(unique, counts))\\n\\nvalid_count = []\\nfor v in dict_count:\\n    valid_count.append(dict_count[v])\\n\\nplt.bar(range(43),valid_count)\\n\\n'"
      ]
     },
     "execution_count": 13,
     "metadata": {},
     "output_type": "execute_result"
    },
    {
     "data": {
      "image/png": "[encoded data removed]",
      "text/plain": [
       "<matplotlib.figure.Figure at 0x7f272fd2e438>"
      ]
     },
     "metadata": {},
     "output_type": "display_data"
    }
   ],
   "source": [
    "# Find the times of each sign appearance in valid set\n",
    "\n",
    "unique_v, counts_v = np.unique(y_valid, return_counts=True)\n",
    "dict_count_valid = dict(zip(unique_v, counts_v))\n",
    "\n",
    "max_valid_idx = max(dict_count_valid,key=dict_count_valid.get)\n",
    "print(\"max valid index is \", max(dict_count_valid,key=dict_count_valid.get))\n",
    "\n",
    "min_valid_idx = min(dict_count_valid,key=dict_count_valid.get)\n",
    "print(\"min test index is \", min(dict_count_valid,key=dict_count_valid.get))\n",
    "\n",
    "valid_repeat_times = []\n",
    "valid_graph = []\n",
    "for v in dict_count_valid:\n",
    "    valid_graph.append(dict_count_valid[v])\n",
    "    valid_times = dict_count_valid[max_test_idx]-dict_count_valid[v]\n",
    "    valid_repeat_times.append(valid_times)\n",
    "\n",
    "print()\n",
    "print(\"valid repeat needed times is\")\n",
    "print(valid_repeat_times)\n",
    "plt.bar(range(43),valid_graph)\n",
    "\n",
    "import operator\n",
    "valid_sorted_count = sorted(dict_count_valid.items(), key=operator.itemgetter(1))\n",
    "print(\"y valid times \",valid_sorted_count)\n",
    "\n",
    "\n",
    "#Adding test dataset with 1/3 X train set\n",
    "\"\"\"\n",
    "new_valid = []\n",
    "new_valid_y_value=[]\n",
    "valid_idx = len(X_train)/3\n",
    "#print(\"test idx is \", test_idx)\n",
    "while(valid_repeat_times[min_valid_idx] > 10 and valid_idx >0):\n",
    "    valid_index = 0\n",
    "    for image in X_valid:\n",
    "        #print(\"test index is\",test_index)\n",
    "        valid_sign = y_valid[valid_index]\n",
    "        #print(\"test sign is\",test_sign)\n",
    "        #print(\"test_idx is \", test_idx)\n",
    "        if(valid_repeat_times[valid_sign]-1>0):\n",
    "            new_valid_image = transform_image(image,10,10,5)\n",
    "            new_valid.append(new_valid_image)\n",
    "            new_valid_y_value.append(valid_sign)\n",
    "            valid_index += 1\n",
    "            valid_repeat_times[valid_sign] = valid_repeat_times[valid_sign]-1\n",
    "            #print(\"sign times remain \",repeat_times[sign])\n",
    "            valid_idx = valid_idx - 1\n",
    "        else:\n",
    "            valid_index += 1\n",
    "\n",
    "print()\n",
    "print(\"valid repeat needed times is\")\n",
    "print(valid_repeat_times)\n",
    "\n",
    "\n",
    "X_valid = np.append(X_valid,new_valid,axis=0)\n",
    "y_valid = np.append(y_valid,new_valid_y_value,axis=0)\n",
    "\n",
    "# TODO: Number of testing examples.\n",
    "n_valid = len(X_valid)\n",
    "print(\"Number of valid examples =\", n_valid)\n",
    "\n",
    "\n",
    "# Find the times of each sign appearance in training set\n",
    "unique, counts = np.unique(y_valid, return_counts=True)\n",
    "dict_count = dict(zip(unique, counts))\n",
    "\n",
    "valid_count = []\n",
    "for v in dict_count:\n",
    "    valid_count.append(dict_count[v])\n",
    "\n",
    "plt.bar(range(43),valid_count)\n",
    "\n",
    "\"\"\""
   ]
  },
  {
   "cell_type": "code",
   "execution_count": 14,
   "metadata": {
    "collapsed": false,
    "deletable": true,
    "editable": true
   },
   "outputs": [
    {
     "name": "stdout",
     "output_type": "stream",
     "text": [
      "max index is  2\n",
      "\n",
      "times is\n",
      "[1, 1, 0, 1, 1, 1, 1, 1, 1, 1, 1, 1, 1, 1, 1, 1, 1, 1, 1, 1, 1, 1, 1, 1, 1, 1, 1, 1, 1, 1, 1, 1, 1, 1, 1, 1, 1, 1, 1, 1, 1, 1, 1]\n",
      "y train times  [(0, 2009), (1, 2009), (3, 2009), (4, 2009), (5, 2009), (6, 2009), (7, 2009), (8, 2009), (9, 2009), (10, 2009), (11, 2009), (12, 2009), (13, 2009), (14, 2009), (15, 2009), (16, 2009), (17, 2009), (18, 2009), (19, 2009), (20, 2009), (21, 2009), (22, 2009), (23, 2009), (24, 2009), (25, 2009), (26, 2009), (27, 2009), (28, 2009), (29, 2009), (30, 2009), (31, 2009), (32, 2009), (33, 2009), (34, 2009), (35, 2009), (36, 2009), (37, 2009), (38, 2009), (39, 2009), (40, 2009), (41, 2009), (42, 2009), (2, 2010)]\n"
     ]
    }
   ],
   "source": [
    "# Find the times of each sign appearance in training set\n",
    "unique, counts = np.unique(y_train, return_counts=True)\n",
    "dict_count = dict(zip(unique, counts))\n",
    "\n",
    "max_idx = max(dict_count,key=dict_count.get)\n",
    "print(\"max index is \", max(dict_count,key=dict_count.get))\n",
    "\n",
    "repeat_times = []\n",
    "for v in dict_count:\n",
    "    times = dict_count[max_idx]-dict_count[v]\n",
    "    repeat_times.append(times)\n",
    "\n",
    "print()\n",
    "print(\"times is\")\n",
    "print(repeat_times)\n",
    "\n",
    "\n",
    "import operator\n",
    "sorted_count = sorted(dict_count.items(), key=operator.itemgetter(1))\n",
    "print(\"y train times \",sorted_count)"
   ]
  },
  {
   "cell_type": "code",
   "execution_count": 15,
   "metadata": {
    "collapsed": false,
    "deletable": true,
    "editable": true
   },
   "outputs": [
    {
     "name": "stdout",
     "output_type": "stream",
     "text": [
      "max test index is  2\n",
      "\n",
      "test times is\n",
      "[690, 30, 0, 300, 90, 120, 600, 300, 300, 270, 90, 330, 60, 30, 480, 540, 600, 390, 360, 690, 660, 660, 630, 600, 660, 270, 570, 690, 600, 660, 600, 480, 690, 540, 630, 360, 630, 690, 60, 660, 660, 690, 660]\n",
      "y test times  [(0, 60), (19, 60), (27, 60), (32, 60), (37, 60), (41, 60), (20, 90), (21, 90), (24, 90), (29, 90), (39, 90), (40, 90), (42, 90), (22, 120), (34, 120), (36, 120), (6, 150), (16, 150), (23, 150), (28, 150), (30, 150), (26, 180), (15, 210), (33, 210), (14, 270), (31, 270), (17, 360), (18, 390), (35, 390), (11, 420), (3, 450), (7, 450), (8, 450), (9, 480), (25, 480), (5, 630), (4, 660), (10, 660), (12, 690), (38, 690), (1, 720), (13, 720), (2, 750)]\n"
     ]
    },
    {
     "data": {
      "image/png": "[encoded data removed]",
      "text/plain": [
       "<matplotlib.figure.Figure at 0x7f271598f438>"
      ]
     },
     "metadata": {},
     "output_type": "display_data"
    }
   ],
   "source": [
    "# Find the times of each sign appearance in test set\n",
    "test_unique, test_counts = np.unique(y_test, return_counts=True)\n",
    "test_dict_count = dict(zip(test_unique, test_counts))\n",
    "\n",
    "max_test_idx = max(test_dict_count,key=test_dict_count.get)\n",
    "print(\"max test index is \", max(test_dict_count,key=test_dict_count.get))\n",
    "\n",
    "test_repeat_times = []\n",
    "test_counts = []\n",
    "for v in test_dict_count:\n",
    "    test_times = test_dict_count[max_test_idx]-test_dict_count[v]\n",
    "    test_counts.append(test_dict_count[v])\n",
    "    test_repeat_times.append(test_times)\n",
    "    \n",
    "\n",
    "plt.bar(range(43),test_counts)\n",
    "    \n",
    "    \n",
    "print()\n",
    "print(\"test times is\")\n",
    "print(test_repeat_times)\n",
    "\n",
    "\n",
    "import operator\n",
    "test_sorted_count = sorted(test_dict_count.items(), key=operator.itemgetter(1))\n",
    "print(\"y test times \",test_sorted_count)"
   ]
  },
  {
   "cell_type": "code",
   "execution_count": 16,
   "metadata": {
    "collapsed": false,
    "deletable": true,
    "editable": true
   },
   "outputs": [
    {
     "name": "stdout",
     "output_type": "stream",
     "text": [
      "Image data shape = (32, 32, 3)\n",
      "the length of x valid is  4410\n",
      "25\n",
      "valid image shape = (32, 32, 3)\n",
      "valid image shape = (32, 32, 3)\n"
     ]
    },
    {
     "data": {
      "image/png": "[encoded data removed]",
      "text/plain": [
       "<matplotlib.figure.Figure at 0x7f272bf90d30>"
      ]
     },
     "metadata": {},
     "output_type": "display_data"
    }
   ],
   "source": [
    "#color normalize all data set\n",
    "\n",
    "\n",
    "new_train = []\n",
    "for img in X_train:\n",
    "    img = All_color_normalize2(img)\n",
    "    new_img = color_normalize(img)\n",
    "    new_train.append(new_img)\n",
    "\n",
    "\n",
    "# TODO: What's the shape of an traffic sign image?\n",
    "print(\"Image data shape =\", image_shape)\n",
    "X_train = new_train\n",
    "\n",
    "index = random.randint(0, len(X_valid))\n",
    "print(\"the length of x valid is \", len(X_valid))\n",
    "image = X_valid[index]\n",
    "\n",
    "plt.figure(figsize=(1,1))\n",
    "plt.imshow(image)\n",
    "print(y_valid[index])\n",
    "\n",
    "\n",
    "#transfer test data\n",
    "new_test = []\n",
    "for images in X_test:\n",
    "    images = All_color_normalize2(images)\n",
    "    new_test_image = color_normalize(images)\n",
    "    new_test.append(new_test_image)\n",
    "\n",
    "X_test = new_test\n",
    "valid_shape2 = new_test[0].shape\n",
    "print(\"valid image shape =\",valid_shape2)\n",
    "\n",
    "\n",
    "# transfer valid data\n",
    "new_valid = []\n",
    "for image in X_valid:\n",
    "    image = All_color_normalize2(image)\n",
    "    new_valid_image = color_normalize(image)\n",
    "    new_valid.append(new_valid_image)\n",
    "    \n",
    "\n",
    "valid_shape = new_valid[0].shape\n",
    "print(\"valid image shape =\",valid_shape)\n",
    "X_valid = new_valid\n"
   ]
  },
  {
   "cell_type": "code",
   "execution_count": 17,
   "metadata": {
    "collapsed": false,
    "deletable": true,
    "editable": true
   },
   "outputs": [
    {
     "data": {
      "text/plain": [
       "'\\n#transfer color to grayscale\\n\\nnew_train = []\\nfor image in X_train:\\n    new_image = rgb2gray(image)\\n    new_train.append(new_image)\\n\\nnew_train_reshape = np.reshape(new_train,(-1,32,32,1))\\n# TODO: What\\'s the shape of an traffic sign image?\\nimage_shape = new_train_reshape[0].shape\\nprint(\"Image data shape =\", image_shape)\\nX_train = new_train_reshape\\n\\nindex = random.randint(0, len(X_valid))\\nprint(\"the length of x train is \", len(X_train))\\nimage = X_valid[index]\\n\\nplt.figure(figsize=(1,1))\\nplt.imshow(image)\\nprint(y_train[index])\\n\\n# transfer test data\\nnew_test = []\\nfor image in X_test:\\n    new_test_image = rgb2gray(image)\\n    new_test.append(new_valid_image)\\n    \\nnew_test_reshape = np.reshape(new_valid,(-1,32,32,1))\\ntest_shape = new_test_reshape[0].shape\\nprint(\"test image shape =\",test_shape)\\nX_test = new_test_reshape\\n\\n\\n\\n# transfer valid data\\nnew_valid = []\\nfor image in X_valid:\\n    new_valid_image = rgb2gray(image)\\n    new_valid.append(new_valid_image)\\n    \\nnew_valid_reshape = np.reshape(new_valid,(-1,32,32,1))\\nvalid_shape = new_valid_reshape[0].shape\\nprint(\"valid image shape =\",valid_shape)\\nX_valid = new_valid_reshape\\n'"
      ]
     },
     "execution_count": 17,
     "metadata": {},
     "output_type": "execute_result"
    }
   ],
   "source": [
    "\"\"\"\n",
    "#transfer color to grayscale\n",
    "\n",
    "new_train = []\n",
    "for image in X_train:\n",
    "    new_image = rgb2gray(image)\n",
    "    new_train.append(new_image)\n",
    "\n",
    "new_train_reshape = np.reshape(new_train,(-1,32,32,1))\n",
    "# TODO: What's the shape of an traffic sign image?\n",
    "image_shape = new_train_reshape[0].shape\n",
    "print(\"Image data shape =\", image_shape)\n",
    "X_train = new_train_reshape\n",
    "\n",
    "index = random.randint(0, len(X_valid))\n",
    "print(\"the length of x train is \", len(X_train))\n",
    "image = X_valid[index]\n",
    "\n",
    "plt.figure(figsize=(1,1))\n",
    "plt.imshow(image)\n",
    "print(y_train[index])\n",
    "\n",
    "# transfer test data\n",
    "new_test = []\n",
    "for image in X_test:\n",
    "    new_test_image = rgb2gray(image)\n",
    "    new_test.append(new_valid_image)\n",
    "    \n",
    "new_test_reshape = np.reshape(new_valid,(-1,32,32,1))\n",
    "test_shape = new_test_reshape[0].shape\n",
    "print(\"test image shape =\",test_shape)\n",
    "X_test = new_test_reshape\n",
    "\n",
    "\n",
    "\n",
    "# transfer valid data\n",
    "new_valid = []\n",
    "for image in X_valid:\n",
    "    new_valid_image = rgb2gray(image)\n",
    "    new_valid.append(new_valid_image)\n",
    "    \n",
    "new_valid_reshape = np.reshape(new_valid,(-1,32,32,1))\n",
    "valid_shape = new_valid_reshape[0].shape\n",
    "print(\"valid image shape =\",valid_shape)\n",
    "X_valid = new_valid_reshape\n",
    "\"\"\""
   ]
  },
  {
   "cell_type": "code",
   "execution_count": 18,
   "metadata": {
    "collapsed": false,
    "deletable": true,
    "editable": true,
    "scrolled": true
   },
   "outputs": [
    {
     "name": "stdout",
     "output_type": "stream",
     "text": [
      "14\n",
      "16\n"
     ]
    },
    {
     "data": {
      "image/png": "[encoded data removed]",
      "text/plain": [
       "<matplotlib.figure.Figure at 0x7f272bf715c0>"
      ]
     },
     "metadata": {},
     "output_type": "display_data"
    },
    {
     "data": {
      "image/png": "[encoded data removed]",
      "text/plain": [
       "<matplotlib.figure.Figure at 0x7f2714fec5f8>"
      ]
     },
     "metadata": {},
     "output_type": "display_data"
    }
   ],
   "source": [
    "\n",
    "index = random.randint(0, len(X_train))\n",
    "index2 = random.randint(0, len(X_train))\n",
    "#print(\"the length of x train is \", len(X_train))\n",
    "image = X_train[index].squeeze()\n",
    "image2 = X_train[index2].squeeze()\n",
    "#print(image[0][0][0])\n",
    "\n",
    "#def rgb2gray2(rgb):\n",
    "#    return np.dot(rgb[...,:3], [0.299, 0.587, 0.114])\n",
    "\n",
    "plt.figure(figsize=(1,1))   \n",
    "plt.imshow(image)\n",
    "\n",
    "\n",
    "plt.figure(figsize=(1,1))\n",
    "plt.imshow(image2)\n",
    "\n",
    "\n",
    "print(y_train[index])\n",
    "print(y_train[index2])\n",
    "\n"
   ]
  },
  {
   "cell_type": "code",
   "execution_count": 19,
   "metadata": {
    "collapsed": false,
    "deletable": true,
    "editable": true
   },
   "outputs": [
    {
     "name": "stdout",
     "output_type": "stream",
     "text": [
      "18\n",
      "38\n"
     ]
    },
    {
     "data": {
      "image/png": "[encoded data removed]",
      "text/plain": [
       "<matplotlib.figure.Figure at 0x7f271500dcf8>"
      ]
     },
     "metadata": {},
     "output_type": "display_data"
    },
    {
     "data": {
      "image/png": "[encoded data removed]",
      "text/plain": [
       "<matplotlib.figure.Figure at 0x7f2714ffbda0>"
      ]
     },
     "metadata": {},
     "output_type": "display_data"
    }
   ],
   "source": [
    "# check test dataset \n",
    "index = random.randint(0, len(X_test))\n",
    "index2 = random.randint(0, len(X_test))\n",
    "#print(\"the length of x train is \", len(X_train))\n",
    "image = X_test[index].squeeze()\n",
    "image2 = X_test[index2].squeeze()\n",
    "#print(image[0][0][0])\n",
    "\n",
    "#def rgb2gray2(rgb):\n",
    "#    return np.dot(rgb[...,:3], [0.299, 0.587, 0.114])\n",
    "\n",
    "plt.figure(figsize=(1,1))   \n",
    "plt.imshow(image)\n",
    "\n",
    "\n",
    "plt.figure(figsize=(1,1))\n",
    "plt.imshow(image2)\n",
    "\n",
    "\n",
    "print(y_test[index])\n",
    "print(y_test[index2])\n"
   ]
  },
  {
   "cell_type": "markdown",
   "metadata": {
    "deletable": true,
    "editable": true
   },
   "source": [
    "----\n",
    "\n",
    "## Step 2: Design and Test a Model Architecture\n",
    "\n",
    "Design and implement a deep learning model that learns to recognize traffic signs. Train and test your model on the [German Traffic Sign Dataset](http://benchmark.ini.rub.de/?section=gtsrb&subsection=dataset).\n",
    "\n",
    "The LeNet-5 implementation shown in the [classroom](https://classroom.udacity.com/nanodegrees/nd013/parts/fbf77062-5703-404e-b60c-95b78b2f3f9e/modules/6df7ae49-c61c-4bb2-a23e-6527e69209ec/lessons/601ae704-1035-4287-8b11-e2c2716217ad/concepts/d4aca031-508f-4e0b-b493-e7b706120f81) at the end of the CNN lesson is a solid starting point. You'll have to change the number of classes and possibly the preprocessing, but aside from that it's plug and play! \n",
    "\n",
    "With the LeNet-5 solution from the lecture, you should expect a validation set accuracy of about 0.89. To meet specifications, the validation set accuracy will need to be at least 0.93. It is possible to get an even higher accuracy, but 0.93 is the minimum for a successful project submission. \n",
    "\n",
    "There are various aspects to consider when thinking about this problem:\n",
    "\n",
    "- Neural network architecture (is the network over or underfitting?)\n",
    "- Play around preprocessing techniques (normalization, rgb to grayscale, etc)\n",
    "- Number of examples per label (some have more than others).\n",
    "- Generate fake data.\n",
    "\n",
    "Here is an example of a [published baseline model on this problem](http://yann.lecun.com/exdb/publis/pdf/sermanet-ijcnn-11.pdf). It's not required to be familiar with the approach used in the paper but, it's good practice to try to read papers like these."
   ]
  },
  {
   "cell_type": "markdown",
   "metadata": {
    "deletable": true,
    "editable": true
   },
   "source": [
    "### Pre-process the Data Set (normalization, grayscale, etc.)"
   ]
  },
  {
   "cell_type": "markdown",
   "metadata": {
    "deletable": true,
    "editable": true
   },
   "source": [
    "Use the code cell (or multiple code cells, if necessary) to implement the first step of your project."
   ]
  },
  {
   "cell_type": "code",
   "execution_count": 20,
   "metadata": {
    "collapsed": true,
    "deletable": true,
    "editable": true
   },
   "outputs": [],
   "source": [
    "### Preprocess the data here. Preprocessing steps could include normalization, converting to grayscale, etc.\n",
    "### Feel free to use as many code cells as needed."
   ]
  },
  {
   "cell_type": "code",
   "execution_count": 21,
   "metadata": {
    "collapsed": false,
    "deletable": true,
    "editable": true
   },
   "outputs": [],
   "source": [
    "#shuffle images\n",
    "from sklearn.utils import shuffle\n",
    "\n",
    "X_train, y_train = shuffle(X_train, y_train)"
   ]
  },
  {
   "cell_type": "markdown",
   "metadata": {
    "deletable": true,
    "editable": true
   },
   "source": [
    "### Model Architecture"
   ]
  },
  {
   "cell_type": "code",
   "execution_count": 22,
   "metadata": {
    "collapsed": true,
    "deletable": true,
    "editable": true
   },
   "outputs": [],
   "source": [
    "### Define your architecture here.\n",
    "### Feel free to use as many code cells as needed."
   ]
  },
  {
   "cell_type": "markdown",
   "metadata": {
    "deletable": true,
    "editable": true
   },
   "source": [
    "Implement LeNet-5\n",
    "\n",
    "Implement the LeNet-5 neural network architecture.\n",
    "\n",
    "This is the only cell you need to edit.\n",
    "Input\n",
    "\n",
    "The LeNet architecture accepts a 32x32xC image as input, where C is the number of color channels. Since MNIST images are grayscale, C is 1 in this case.\n",
    "Architecture\n",
    "\n",
    "Layer 1: Convolutional. The output shape should be 28x28x6.\n",
    "\n",
    "Activation. Your choice of activation function.\n",
    "\n",
    "Pooling. The output shape should be 14x14x6.\n",
    "\n",
    "Layer 2: Convolutional. The output shape should be 10x10x16.\n",
    "\n",
    "Activation. Your choice of activation function.\n",
    "\n",
    "Pooling. The output shape should be 5x5x16.\n",
    "\n",
    "Flatten. Flatten the output shape of the final pooling layer such that it's 1D instead of 3D. The easiest way to do is by using tf.contrib.layers.flatten, which is already imported for you.\n",
    "\n",
    "Layer 3: Fully Connected. This should have 120 outputs.\n",
    "\n",
    "Activation. Your choice of activation function.\n",
    "\n",
    "Layer 4: Fully Connected. This should have 84 outputs.\n",
    "\n",
    "Activation. Your choice of activation function.\n",
    "\n",
    "Layer 5: Fully Connected (Logits). This should have 43 outputs."
   ]
  },
  {
   "cell_type": "code",
   "execution_count": 23,
   "metadata": {
    "collapsed": false,
    "deletable": true,
    "editable": true
   },
   "outputs": [],
   "source": [
    "import tensorflow as tf\n",
    "#tf.GraphKeys.VARIABLES = tf.GraphKeys.GLOBAL_VARIABLES\n",
    "EPOCHS = 20\n",
    "BATCH_SIZE = 128\n",
    "\n",
    "from tensorflow.contrib.layers import flatten\n",
    "\n",
    "def LeNet(x):    \n",
    "    # Arguments used for tf.truncated_normal, randomly defines variables for the weights and biases for each layer\n",
    "    mu = 0\n",
    "    sigma = 0.1\n",
    "    \n",
    "    # Store layers weight & bias\n",
    "    weights = {\n",
    "        'wc1': tf.Variable(tf.random_normal([4, 4, 3, 6],mean=mu, stddev=sigma)),\n",
    "        'wc2': tf.Variable(tf.random_normal([4, 4, 6, 32],mean=mu, stddev=sigma)),\n",
    "        'wd1': tf.Variable(tf.random_normal([800, 120],mean=mu, stddev=sigma)),\n",
    "        'wd2': tf.Variable(tf.random_normal([120, 84],mean=mu, stddev=sigma)),\n",
    "        'out': tf.Variable(tf.random_normal([84, 43],mean=mu, stddev=sigma))}\n",
    "\n",
    "    biases = {\n",
    "        'bc1': tf.Variable(tf.random_normal([6],mean=mu, stddev=sigma)),\n",
    "        'bp1': tf.Variable(tf.random_normal([32],mean=mu, stddev=sigma)),\n",
    "        'bd1': tf.Variable(tf.random_normal([120],mean=mu, stddev=sigma)),\n",
    "        'bd2': tf.Variable(tf.random_normal([84],mean=mu, stddev=sigma)),\n",
    "        'out': tf.Variable(tf.random_normal([43],mean=mu, stddev=sigma))}\n",
    "\n",
    "    \n",
    "    # TODO: Layer 1: Convolutional. Input = 32x32x1. Output = 30x30x6.\n",
    "\n",
    "    \n",
    "    x = tf.nn.conv2d(x, weights['wc1'], strides=[1, 1, 1, 1], padding='VALID')\n",
    "    x = tf.nn.bias_add(x, biases['bc1'])\n",
    "    \n",
    "    # TODO: Activation.\n",
    "    x = tf.nn.relu(x)\n",
    "    #  Adding Dropout \n",
    "    x = tf.nn.dropout(x, keep_prob)\n",
    "    # TODO: Pooling. Input = 30x30x6. Output = 15x15x16.\n",
    "    x = tf.nn.max_pool(\n",
    "    x,\n",
    "    ksize=[1, 2, 2, 1],\n",
    "    strides=[1, 2, 2, 1],\n",
    "    padding='VALID')\n",
    "    # TODO: Layer 2: Convolutional. Output = 13x13x32.\n",
    "    x = tf.nn.conv2d(x, weights['wc2'], strides=[1, 1, 1, 1], padding='VALID')\n",
    "    # TODO: Activation.\n",
    "    x = tf.nn.relu(x)\n",
    "    \n",
    "    # Adding Dropout \n",
    "    #x = tf.nn.dropout(x, keep_prob)\n",
    "    # TODO: Pooling. Input = 13x13x32. Output = 6x6x32.\n",
    "    x = tf.nn.max_pool(\n",
    "    x,\n",
    "    ksize=[1, 3, 3, 1],\n",
    "    strides=[1, 2, 2, 1],\n",
    "    padding='VALID')\n",
    "\n",
    "    # TODO: Flatten. Input = 6x6x32. Output = 1152.\n",
    "    x = flatten(x)\n",
    "    # TODO: Layer 3: Fully Connected. Input = 1152. Output = 512.\n",
    "    x = tf.add(tf.matmul(x, weights['wd1']), biases['bd1'])\n",
    "    # TODO: Activation.\n",
    "    x = tf.nn.relu(x)\n",
    "     # Adding Dropout \n",
    "    #x = tf.nn.dropout(x, keep_prob)\n",
    "    # TODO: Layer 4: Fully Connected. Input = 512. Output = 512.\n",
    "    x = tf.add(tf.matmul(x, weights['wd2']), biases['bd2'])\n",
    "    # TODO: Activation.\n",
    "    #x = tf.nn.relu(x)\n",
    "     # Adding Dropout \n",
    "    #x = tf.nn.dropout(x, keep_prob)\n",
    "    # TODO: Layer 5: Fully Connected. Input = 512. Output = 43.\n",
    "    logits = tf.add(tf.matmul(x, weights['out']), biases['out'])\n",
    "    return logits"
   ]
  },
  {
   "cell_type": "code",
   "execution_count": 24,
   "metadata": {
    "collapsed": true
   },
   "outputs": [],
   "source": [
    "### Define your architecture here.\n",
    "### Feel free to use as many code cells as needed.\n",
    "import tensorflow as tf\n",
    "from tensorflow.contrib.layers import flatten\n",
    "\n",
    "def ConvNet(x):    \n",
    "    # Arguments used for tf.truncated_normal, randomly defines variables for the weights and biases for each layer\n",
    "    mu = 0\n",
    "    sigma = 0.1\n",
    "    \n",
    "    # SOLUTION: Layer 1: Convolutional. Input = 32x32x1. Output = 28x28x6.\n",
    "    conv1_W = tf.Variable(tf.truncated_normal(shape=(5, 5, 1, 6), mean = mu, stddev = sigma))\n",
    "    conv1_b = tf.Variable(tf.zeros(6))\n",
    "    conv1   = tf.nn.conv2d(x, conv1_W, strides=[1, 1, 1, 1], padding='VALID') + conv1_b\n",
    "\n",
    "    # SOLUTION: Activation.\n",
    "    conv1 = tf.nn.relu(conv1)\n",
    "\n",
    "    # SOLUTION: Pooling. Input = 28x28x6. Output = 14x14x6.\n",
    "    conv1 = tf.nn.max_pool(conv1, ksize=[1, 2, 2, 1], strides=[1, 2, 2, 1], padding='VALID')\n",
    "\n",
    "    # SOLUTION: Layer 2: Convolutional. Output = 10x10x16.\n",
    "    conv2_W = tf.Variable(tf.truncated_normal(shape=(5, 5, 6, 16), mean = mu, stddev = sigma))\n",
    "    conv2_b = tf.Variable(tf.zeros(16))\n",
    "    conv2   = tf.nn.conv2d(conv1, conv2_W, strides=[1, 1, 1, 1], padding='VALID') + conv2_b\n",
    "    \n",
    "    # SOLUTION: Activation.\n",
    "    conv2 = tf.nn.relu(conv2)\n",
    "\n",
    "    # SOLUTION: Pooling. Input = 10x10x16. Output = 5x5x16.\n",
    "    conv2 = tf.nn.max_pool(conv2, ksize=[1, 2, 2, 1], strides=[1, 2, 2, 1], padding='VALID')\n",
    "\n",
    "    #TODO pool 1st layer again\n",
    "    # input 14x14x6. output 7x7x6\n",
    "    conv1_beta = tf.nn.max_pool(conv1, ksize=[1, 2, 2, 1], strides=[1, 2, 2, 1], padding='VALID')\n",
    "    \n",
    "    #TODO convolute 1st layer output\n",
    "    # input 7x7x6. output 5x5x32\n",
    "    conv1_W = tf.Variable(tf.truncated_normal(shape=(3, 3, 6, 32), mean = mu, stddev = sigma))\n",
    "    conv1_b = tf.Variable(tf.zeros(32))\n",
    "    conv1_gamma   = tf.nn.conv2d(conv1_beta, conv1_W, strides=[1, 1, 1, 1], padding='VALID') + conv1_b\n",
    "    \n",
    "    #TODO convolute 2nd layer output\n",
    "    # input 5x5x16. output 5x5x32\n",
    "    conv2_W = tf.Variable(tf.truncated_normal(shape=(1, 1, 16, 32), mean = mu, stddev = sigma))\n",
    "    conv2_b = tf.Variable(tf.zeros(32))\n",
    "    conv2_beta   = tf.nn.conv2d(conv2, conv2_W, strides=[1, 1, 1, 1], padding='VALID') + conv2_b\n",
    "    \n",
    "    #TODO concatenate the two tensors, and change remainder of params to fit new number of inputs\n",
    "    new_conv = tf.concat(0, [conv1_gamma, conv2_beta])\n",
    "    \n",
    "    # SOLUTION: Flatten. Input = 5x5x32 + 5x5x32. Output = 800 + 800 = 1600.\n",
    "    fc0   = flatten(new_conv)\n",
    "    \n",
    "    # SOLUTION: Layer 3: Fully Connected. Input = 400. Output = 120.\n",
    "    fc1_W = tf.Variable(tf.truncated_normal(shape=(800, 120), mean = mu, stddev = sigma))\n",
    "    fc1_b = tf.Variable(tf.zeros(120))\n",
    "    fc1   = tf.matmul(fc0, fc1_W) + fc1_b\n",
    "    \n",
    "    # SOLUTION: Activation.\n",
    "    fc1    = tf.nn.relu(fc1)\n",
    "\n",
    "    # SOLUTION: Layer 4: Fully Connected. Input = 120. Output = 84.\n",
    "    fc2_W  = tf.Variable(tf.truncated_normal(shape=(120, 84), mean = mu, stddev = sigma))\n",
    "    fc2_b  = tf.Variable(tf.zeros(84))\n",
    "    fc2    = tf.matmul(fc1, fc2_W) + fc2_b\n",
    "    \n",
    "    # SOLUTION: Activation.\n",
    "    fc2    = tf.nn.relu(fc2)\n",
    "\n",
    "    # SOLUTION: Layer 5: Fully Connected. Input = 84. Output = 43.\n",
    "    fc3_W  = tf.Variable(tf.truncated_normal(shape=(84, 43), mean = mu, stddev = sigma))\n",
    "    fc3_b  = tf.Variable(tf.zeros(43))\n",
    "    logits = tf.matmul(fc2, fc3_W) + fc3_b\n",
    "    \n",
    "    return logits"
   ]
  },
  {
   "cell_type": "code",
   "execution_count": 25,
   "metadata": {
    "collapsed": false,
    "deletable": true,
    "editable": true
   },
   "outputs": [],
   "source": [
    "x = tf.placeholder(tf.float32, (None, 32, 32, 3))\n",
    "y = tf.placeholder(tf.int32, (None))\n",
    "keep_prob = tf.placeholder(tf.float32)\n",
    "one_hot_y = tf.one_hot(y, 43)"
   ]
  },
  {
   "cell_type": "markdown",
   "metadata": {
    "deletable": true,
    "editable": true
   },
   "source": [
    "### Train, Validate and Test the Model"
   ]
  },
  {
   "cell_type": "markdown",
   "metadata": {
    "deletable": true,
    "editable": true
   },
   "source": [
    "A validation set can be used to assess how well the model is performing. A low accuracy on the training and validation\n",
    "sets imply underfitting. A high accuracy on the training set but low accuracy on the validation set implies overfitting."
   ]
  },
  {
   "cell_type": "code",
   "execution_count": 26,
   "metadata": {
    "collapsed": true,
    "deletable": true,
    "editable": true
   },
   "outputs": [],
   "source": [
    "### Train your model here.\n",
    "### Calculate and report the accuracy on the training and validation set.\n",
    "### Once a final model architecture is selected, \n",
    "### the accuracy on the test set should be calculated and reported as well.\n",
    "### Feel free to use as many code cells as needed."
   ]
  },
  {
   "cell_type": "code",
   "execution_count": 27,
   "metadata": {
    "collapsed": false,
    "deletable": true,
    "editable": true
   },
   "outputs": [],
   "source": [
    "#trainging pipeline\n",
    "rate = 0.001\n",
    "\n",
    "\n",
    "logits = LeNet(x)\n",
    "#logits = ConvNet(x)\n",
    "cross_entropy = tf.nn.softmax_cross_entropy_with_logits(logits=logits, labels=one_hot_y)\n",
    "loss_operation = tf.reduce_mean(cross_entropy)\n",
    "optimizer = tf.train.AdamOptimizer(learning_rate = rate,beta1=0.8, beta2=0.9)# beta for learning rate decay tech\n",
    "training_operation = optimizer.minimize(loss_operation)"
   ]
  },
  {
   "cell_type": "code",
   "execution_count": 28,
   "metadata": {
    "collapsed": false,
    "deletable": true,
    "editable": true
   },
   "outputs": [],
   "source": [
    "#model evaluation\n",
    "correct_prediction = tf.equal(tf.argmax(logits, 1), tf.argmax(one_hot_y, 1))\n",
    "accuracy_operation = tf.reduce_mean(tf.cast(correct_prediction, tf.float32))\n",
    "saver = tf.train.Saver()\n",
    "\n",
    "def evaluate(X_data, y_data):\n",
    "    num_examples = len(X_data)\n",
    "    total_accuracy = 0\n",
    "    total_lost = 0\n",
    "    sess = tf.get_default_session()\n",
    "    for offset in range(0, num_examples, BATCH_SIZE):\n",
    "        batch_x, batch_y = X_data[offset:offset+BATCH_SIZE], y_data[offset:offset+BATCH_SIZE]\n",
    "        loss,accuracy = sess.run([loss_operation,accuracy_operation], feed_dict={x: batch_x, y: batch_y,keep_prob: 1})\n",
    "        total_accuracy += (accuracy * len(batch_x))\n",
    "        total_lost += (loss*len(batch_x))\n",
    "    t_lost = total_lost/num_examples\n",
    "    t_accu = total_accuracy / num_examples\n",
    "    return t_lost,t_accu\n"
   ]
  },
  {
   "cell_type": "code",
   "execution_count": 29,
   "metadata": {
    "collapsed": false,
    "deletable": true,
    "editable": true,
    "scrolled": true
   },
   "outputs": [
    {
     "name": "stdout",
     "output_type": "stream",
     "text": [
      "Training...\n",
      "\n",
      "EPOCH 1 ...\n",
      "Training loss = 1.386\n",
      "Training accuracy = 0.633\n",
      "Validation loss = 1.079\n",
      "Validation accuracy = 0.731\n",
      "\n",
      "EPOCH 2 ...\n",
      "Training loss = 0.900\n",
      "Training accuracy = 0.781\n",
      "Validation loss = 0.629\n",
      "Validation accuracy = 0.859\n",
      "\n",
      "EPOCH 3 ...\n",
      "Training loss = 0.660\n",
      "Training accuracy = 0.847\n",
      "Validation loss = 0.474\n",
      "Validation accuracy = 0.878\n",
      "\n",
      "EPOCH 4 ...\n",
      "Training loss = 0.523\n",
      "Training accuracy = 0.874\n",
      "Validation loss = 0.386\n",
      "Validation accuracy = 0.895\n",
      "\n",
      "EPOCH 5 ...\n",
      "Training loss = 0.438\n",
      "Training accuracy = 0.896\n",
      "Validation loss = 0.347\n",
      "Validation accuracy = 0.911\n",
      "\n",
      "EPOCH 6 ...\n",
      "Training loss = 0.341\n",
      "Training accuracy = 0.912\n",
      "Validation loss = 0.266\n",
      "Validation accuracy = 0.926\n",
      "\n",
      "EPOCH 7 ...\n",
      "Training loss = 0.312\n",
      "Training accuracy = 0.924\n",
      "Validation loss = 0.289\n",
      "Validation accuracy = 0.917\n",
      "\n",
      "EPOCH 8 ...\n",
      "Training loss = 0.248\n",
      "Training accuracy = 0.944\n",
      "Validation loss = 0.223\n",
      "Validation accuracy = 0.934\n",
      "\n",
      "EPOCH 9 ...\n",
      "Training loss = 0.237\n",
      "Training accuracy = 0.946\n",
      "Validation loss = 0.233\n",
      "Validation accuracy = 0.925\n",
      "\n",
      "EPOCH 10 ...\n",
      "Training loss = 0.194\n",
      "Training accuracy = 0.954\n",
      "Validation loss = 0.214\n",
      "Validation accuracy = 0.935\n",
      "\n",
      "EPOCH 11 ...\n",
      "Training loss = 0.172\n",
      "Training accuracy = 0.962\n",
      "Validation loss = 0.201\n",
      "Validation accuracy = 0.935\n",
      "\n",
      "EPOCH 12 ...\n",
      "Training loss = 0.170\n",
      "Training accuracy = 0.960\n",
      "Validation loss = 0.223\n",
      "Validation accuracy = 0.921\n",
      "\n",
      "EPOCH 13 ...\n",
      "Training loss = 0.175\n",
      "Training accuracy = 0.963\n",
      "Validation loss = 0.196\n",
      "Validation accuracy = 0.939\n",
      "\n",
      "EPOCH 14 ...\n",
      "Training loss = 0.160\n",
      "Training accuracy = 0.960\n",
      "Validation loss = 0.196\n",
      "Validation accuracy = 0.939\n",
      "\n",
      "EPOCH 15 ...\n",
      "Training loss = 0.128\n",
      "Training accuracy = 0.971\n",
      "Validation loss = 0.174\n",
      "Validation accuracy = 0.941\n",
      "\n",
      "EPOCH 16 ...\n",
      "Training loss = 0.107\n",
      "Training accuracy = 0.973\n",
      "Validation loss = 0.195\n",
      "Validation accuracy = 0.935\n",
      "\n",
      "EPOCH 17 ...\n",
      "Training loss = 0.119\n",
      "Training accuracy = 0.970\n",
      "Validation loss = 0.171\n",
      "Validation accuracy = 0.946\n",
      "\n",
      "EPOCH 18 ...\n",
      "Training loss = 0.105\n",
      "Training accuracy = 0.974\n",
      "Validation loss = 0.191\n",
      "Validation accuracy = 0.937\n",
      "\n",
      "EPOCH 19 ...\n",
      "Training loss = 0.099\n",
      "Training accuracy = 0.978\n",
      "Validation loss = 0.174\n",
      "Validation accuracy = 0.944\n",
      "\n",
      "EPOCH 20 ...\n",
      "Training loss = 0.111\n",
      "Training accuracy = 0.976\n",
      "Validation loss = 0.189\n",
      "Validation accuracy = 0.942\n",
      "\n",
      "Test loss = 0.297\n",
      "Test accuracy = 0.915\n"
     ]
    },
    {
     "data": {
      "image/png": "[encoded data removed]",
      "text/plain": [
       "<matplotlib.figure.Figure at 0x7f2715817470>"
      ]
     },
     "metadata": {},
     "output_type": "display_data"
    },
    {
     "name": "stdout",
     "output_type": "stream",
     "text": [
      "Model saved\n"
     ]
    }
   ],
   "source": [
    "#Traing the model\n",
    "with tf.Session() as sess:\n",
    "    sess.run(tf.global_variables_initializer())\n",
    "    #saver.restore(sess, tf.train.latest_checkpoint('.'))\n",
    "    num_examples = len(X_train)\n",
    "    \n",
    "    \n",
    "    training_loss_history = []\n",
    "    validation_loss_history = []\n",
    "    training_accuracy_history = []\n",
    "    validation_accuracy_history = []\n",
    "    print(\"Training...\")\n",
    "    print()\n",
    "    for i in range(EPOCHS):\n",
    "        X_train, y_train = shuffle(X_train, y_train)\n",
    "        for offset in range(0, num_examples, BATCH_SIZE):\n",
    "            end = offset + BATCH_SIZE\n",
    "            batch_x, batch_y = X_train[offset:end], y_train[offset:end]\n",
    "            sess.run(training_operation, feed_dict={x: batch_x, y: batch_y,keep_prob: 0.5})\n",
    "            \n",
    "            \n",
    "        # Log accuracy and loss every epoch\n",
    "        training_loss, training_accuracy = evaluate(X_train,y_train)\n",
    "        training_loss_history.append(training_loss)\n",
    "        training_accuracy_history.append(training_accuracy)\n",
    "        \n",
    "        validation_loss, validation_accuracy = evaluate(X_valid, y_valid)\n",
    "        validation_loss_history.append(validation_loss)\n",
    "        validation_accuracy_history.append(validation_accuracy)\n",
    "\n",
    "        print(\"EPOCH {} ...\".format(i+1))\n",
    "        print(\"Training loss = {:.3f}\".format(training_loss))\n",
    "        print(\"Training accuracy = {:.3f}\".format(training_accuracy))\n",
    "        print(\"Validation loss = {:.3f}\".format(validation_loss))\n",
    "        print(\"Validation accuracy = {:.3f}\".format(validation_accuracy))\n",
    "        print()\n",
    "        \n",
    "    # Evaluate on the test data\n",
    "    test_loss, test_acc = evaluate(X_test, y_test)\n",
    "    print(\"Test loss = {:.3f}\".format(test_loss))\n",
    "    print(\"Test accuracy = {:.3f}\".format(test_acc))\n",
    "\n",
    "    loss_plot = plt.subplot(2,1,1)\n",
    "    loss_plot.set_title('Loss')\n",
    "    loss_plot.plot(training_loss_history, 'r', label='Training Loss')\n",
    "    loss_plot.plot(validation_loss_history, 'b', label='Validation Loss')\n",
    "    loss_plot.set_xlim([0, EPOCHS])\n",
    "    loss_plot.legend(loc=4)\n",
    "    acc_plot = plt.subplot(2,1,2)\n",
    "    acc_plot.set_title('Accuracy')\n",
    "    acc_plot.plot(training_accuracy_history,'r', label='Training Accuracy')\n",
    "    acc_plot.plot(validation_accuracy_history, 'b', label='Validation Accuracy')\n",
    "    acc_plot.set_ylim([0, 1.0])\n",
    "    acc_plot.set_xlim([0, EPOCHS])\n",
    "    acc_plot.legend(loc=4)\n",
    "    plt.tight_layout()\n",
    "    plt.show()\n",
    "    \n",
    "    \n",
    "    saver.save(sess, './mylenet')\n",
    "    print(\"Model saved\")"
   ]
  },
  {
   "cell_type": "markdown",
   "metadata": {
    "deletable": true,
    "editable": true
   },
   "source": [
    "---\n",
    "\n",
    "## Step 3: Test a Model on New Images\n",
    "\n",
    "To give yourself more insight into how your model is working, download at least five pictures of German traffic signs from the web and use your model to predict the traffic sign type.\n",
    "\n",
    "You may find `signnames.csv` useful as it contains mappings from the class id (integer) to the actual sign name."
   ]
  },
  {
   "cell_type": "markdown",
   "metadata": {
    "deletable": true,
    "editable": true
   },
   "source": [
    "### Load and Output the Images"
   ]
  },
  {
   "cell_type": "code",
   "execution_count": null,
   "metadata": {
    "collapsed": true,
    "deletable": true,
    "editable": true
   },
   "outputs": [],
   "source": [
    "### Load the images and plot them here.\n",
    "### Feel free to use as many code cells as needed."
   ]
  },
  {
   "cell_type": "code",
   "execution_count": null,
   "metadata": {
    "collapsed": false,
    "deletable": true,
    "editable": true,
    "scrolled": true
   },
   "outputs": [],
   "source": [
    "# read image\n",
    "import os\n",
    "files=os.listdir(\"test_images/\")\n",
    "image_list=[]\n",
    "label_list=[]\n",
    "\"\"\"\n",
    "for v in files:\n",
    "    image = mpimg.imread('test_images/'+v)\n",
    "    resized_image = cv2.resize(image, (32, 32))\n",
    "    resized_image = All_color_normalize2(resized_image)\n",
    "    resized_image = color_normalize(resized_image)\n",
    "    image_list.append(resized_image)\n",
    "    plt.figure(figsize=(1,1))\n",
    "    plt.imshow(resized_image)\n",
    "\n",
    "image1 = image_list[0]\n",
    "image2 = image_list[1]\n",
    "image3 = image_list[2]\n",
    "image4 = image_list[3]\n",
    "image5 = image_list[4]\n",
    "\"\"\"\n",
    "\n",
    "\n",
    "# check test dataset \n",
    "for i in range(0,5):\n",
    "    index = random.randint(0, len(X_valid))\n",
    "    image_list.append(X_valid[index])\n",
    "    label_list.append(y_valid[index])\n",
    "    plt.figure(figsize=(1,1))\n",
    "    plt.imshow(X_valid[index])\n",
    "    print(y_valid[index])\n",
    "    \n",
    "\n",
    "image1 = image_list[0]\n",
    "image2 = image_list[1]\n",
    "image3 = image_list[2]\n",
    "image4 = image_list[3]\n",
    "image5 = image_list[4]\n",
    "\n",
    "label1 = label_list[0]\n",
    "label2 = label_list[1]\n",
    "label3 = label_list[2]\n",
    "label4 = label_list[3]\n",
    "label5 = label_list[4]\n",
    "\n",
    "\n",
    "\n",
    "#print(\"Image data shape =\", image_shape)\n",
    "#print(image1)\n",
    "    \n",
    "images = np.stack((image1, image2, image3, image4, image5)) #stack images after loading them\n",
    "#labels = np.stack((12,13,25,27,31)) #25, 31, 12, 13, 27) # stack true values\n",
    "labels = np.stack((label1,label2,label3,label4,label5,))   \n",
    "\n"
   ]
  },
  {
   "cell_type": "markdown",
   "metadata": {
    "deletable": true,
    "editable": true
   },
   "source": [
    "### Predict the Sign Type for Each Image"
   ]
  },
  {
   "cell_type": "code",
   "execution_count": null,
   "metadata": {
    "collapsed": true,
    "deletable": true,
    "editable": true
   },
   "outputs": [],
   "source": [
    "### Run the predictions here and use the model to output the prediction for each image.\n",
    "### Make sure to pre-process the images with the same pre-processing pipeline used earlier.\n",
    "### Feel free to use as many code cells as needed."
   ]
  },
  {
   "cell_type": "code",
   "execution_count": null,
   "metadata": {
    "collapsed": false,
    "deletable": true,
    "editable": true,
    "scrolled": true
   },
   "outputs": [],
   "source": [
    "\n",
    "\n",
    "softmax = tf.nn.softmax(logits)\n",
    "pred = tf.nn.top_k(softmax, 5)\n",
    "\n",
    "\n",
    "\n",
    "with tf.Session() as sess:\n",
    "    saver.restore(sess, tf.train.latest_checkpoint('.'))\n",
    "    test_lost,test_accuracy = evaluate(images, labels)\n",
    "    print(\"Test Accuracy = {:.3f}\".format(test_accuracy))\n",
    "    result = sess.run(pred, feed_dict={x: images,keep_prob: 1.})\n",
    "    \n",
    "    \n",
    "    predictions  = result.values\n",
    "    predictionIndicies  = result.indices\n",
    "    print(\"predictions\")\n",
    "    print(predictions)\n",
    "    print(\"predictionIndicies\")\n",
    "    print(predictionIndicies)\n"
   ]
  },
  {
   "cell_type": "markdown",
   "metadata": {
    "deletable": true,
    "editable": true
   },
   "source": [
    "### Analyze Performance"
   ]
  },
  {
   "cell_type": "code",
   "execution_count": null,
   "metadata": {
    "collapsed": true,
    "deletable": true,
    "editable": true
   },
   "outputs": [],
   "source": [
    "### Calculate the accuracy for these 5 new images. \n",
    "### For example, if the model predicted 1 out of 5 signs correctly, it's 20% accurate on these new images."
   ]
  },
  {
   "cell_type": "markdown",
   "metadata": {
    "deletable": true,
    "editable": true
   },
   "source": [
    "### Output Top 5 Softmax Probabilities For Each Image Found on the Web"
   ]
  },
  {
   "cell_type": "markdown",
   "metadata": {
    "deletable": true,
    "editable": true
   },
   "source": [
    "For each of the new images, print out the model's softmax probabilities to show the **certainty** of the model's predictions (limit the output to the top 5 probabilities for each image). [`tf.nn.top_k`](https://www.tensorflow.org/versions/r0.12/api_docs/python/nn.html#top_k) could prove helpful here. \n",
    "\n",
    "The example below demonstrates how tf.nn.top_k can be used to find the top k predictions for each image.\n",
    "\n",
    "`tf.nn.top_k` will return the values and indices (class ids) of the top k predictions. So if k=3, for each sign, it'll return the 3 largest probabilities (out of a possible 43) and the correspoding class ids.\n",
    "\n",
    "Take this numpy array as an example. The values in the array represent predictions. The array contains softmax probabilities for five candidate images with six possible classes. `tk.nn.top_k` is used to choose the three classes with the highest probability:\n",
    "\n",
    "```\n",
    "# (5, 6) array\n",
    "a = np.array([[ 0.24879643,  0.07032244,  0.12641572,  0.34763842,  0.07893497,\n",
    "         0.12789202],\n",
    "       [ 0.28086119,  0.27569815,  0.08594638,  0.0178669 ,  0.18063401,\n",
    "         0.15899337],\n",
    "       [ 0.26076848,  0.23664738,  0.08020603,  0.07001922,  0.1134371 ,\n",
    "         0.23892179],\n",
    "       [ 0.11943333,  0.29198961,  0.02605103,  0.26234032,  0.1351348 ,\n",
    "         0.16505091],\n",
    "       [ 0.09561176,  0.34396535,  0.0643941 ,  0.16240774,  0.24206137,\n",
    "         0.09155967]])\n",
    "```\n",
    "\n",
    "Running it through `sess.run(tf.nn.top_k(tf.constant(a), k=3))` produces:\n",
    "\n",
    "```\n",
    "TopKV2(values=array([[ 0.34763842,  0.24879643,  0.12789202],\n",
    "       [ 0.28086119,  0.27569815,  0.18063401],\n",
    "       [ 0.26076848,  0.23892179,  0.23664738],\n",
    "       [ 0.29198961,  0.26234032,  0.16505091],\n",
    "       [ 0.34396535,  0.24206137,  0.16240774]]), indices=array([[3, 0, 5],\n",
    "       [0, 1, 4],\n",
    "       [0, 5, 1],\n",
    "       [1, 3, 5],\n",
    "       [1, 4, 3]], dtype=int32))\n",
    "```\n",
    "\n",
    "Looking just at the first row we get `[ 0.34763842,  0.24879643,  0.12789202]`, you can confirm these are the 3 largest probabilities in `a`. You'll also notice `[3, 0, 5]` are the corresponding indices."
   ]
  },
  {
   "cell_type": "code",
   "execution_count": null,
   "metadata": {
    "collapsed": true,
    "deletable": true,
    "editable": true
   },
   "outputs": [],
   "source": [
    "### Print out the top five softmax probabilities for the predictions on the German traffic sign images found on the web. \n",
    "### Feel free to use as many code cells as needed."
   ]
  },
  {
   "cell_type": "markdown",
   "metadata": {
    "deletable": true,
    "editable": true
   },
   "source": [
    "---\n",
    "\n",
    "## Step 4: Visualize the Neural Network's State with Test Images\n",
    "\n",
    " This Section is not required to complete but acts as an additional excersise for understaning the output of a neural network's weights. While neural networks can be a great learning device they are often referred to as a black box. We can understand what the weights of a neural network look like better by plotting their feature maps. After successfully training your neural network you can see what it's feature maps look like by plotting the output of the network's weight layers in response to a test stimuli image. From these plotted feature maps, it's possible to see what characteristics of an image the network finds interesting. For a sign, maybe the inner network feature maps react with high activation to the sign's boundary outline or to the contrast in the sign's painted symbol.\n",
    "\n",
    " Provided for you below is the function code that allows you to get the visualization output of any tensorflow weight layer you want. The inputs to the function should be a stimuli image, one used during training or a new one you provided, and then the tensorflow variable name that represents the layer's state during the training process, for instance if you wanted to see what the [LeNet lab's](https://classroom.udacity.com/nanodegrees/nd013/parts/fbf77062-5703-404e-b60c-95b78b2f3f9e/modules/6df7ae49-c61c-4bb2-a23e-6527e69209ec/lessons/601ae704-1035-4287-8b11-e2c2716217ad/concepts/d4aca031-508f-4e0b-b493-e7b706120f81) feature maps looked like for it's second convolutional layer you could enter conv2 as the tf_activation variable.\n",
    "\n",
    "For an example of what feature map outputs look like, check out NVIDIA's results in their paper [End-to-End Deep Learning for Self-Driving Cars](https://devblogs.nvidia.com/parallelforall/deep-learning-self-driving-cars/) in the section Visualization of internal CNN State. NVIDIA was able to show that their network's inner weights had high activations to road boundary lines by comparing feature maps from an image with a clear path to one without. Try experimenting with a similar test to show that your trained network's weights are looking for interesting features, whether it's looking at differences in feature maps from images with or without a sign, or even what feature maps look like in a trained network vs a completely untrained one on the same sign image.\n",
    "\n",
    "<figure>\n",
    " <img src=\"visualize_cnn.png\" width=\"380\" alt=\"Combined Image\" />\n",
    " <figcaption>\n",
    " <p></p> \n",
    " <p style=\"text-align: center;\"> Your output should look something like this (above)</p> \n",
    " </figcaption>\n",
    "</figure>\n",
    " <p></p> \n"
   ]
  },
  {
   "cell_type": "code",
   "execution_count": null,
   "metadata": {
    "collapsed": true,
    "deletable": true,
    "editable": true
   },
   "outputs": [],
   "source": [
    "### Visualize your network's feature maps here.\n",
    "### Feel free to use as many code cells as needed.\n",
    "\n",
    "# image_input: the test image being fed into the network to produce the feature maps\n",
    "# tf_activation: should be a tf variable name used during your training procedure that represents the calculated state of a specific weight layer\n",
    "# activation_min/max: can be used to view the activation contrast in more detail, by default matplot sets min and max to the actual min and max values of the output\n",
    "# plt_num: used to plot out multiple different weight feature map sets on the same block, just extend the plt number for each new feature map entry\n",
    "\n",
    "def outputFeatureMap(image_input, tf_activation, activation_min=-1, activation_max=-1 ,plt_num=1):\n",
    "    # Here make sure to preprocess your image_input in a way your network expects\n",
    "    # with size, normalization, ect if needed\n",
    "    # image_input =\n",
    "    # Note: x should be the same name as your network's tensorflow data placeholder variable\n",
    "    # If you get an error tf_activation is not defined it maybe having trouble accessing the variable from inside a function\n",
    "    activation = tf_activation.eval(session=sess,feed_dict={x : image_input})\n",
    "    featuremaps = activation.shape[3]\n",
    "    plt.figure(plt_num, figsize=(15,15))\n",
    "    for featuremap in range(featuremaps):\n",
    "        plt.subplot(6,8, featuremap+1) # sets the number of feature maps to show on each row and column\n",
    "        plt.title('FeatureMap ' + str(featuremap)) # displays the feature map number\n",
    "        if activation_min != -1 & activation_max != -1:\n",
    "            plt.imshow(activation[0,:,:, featuremap], interpolation=\"nearest\", vmin =activation_min, vmax=activation_max, cmap=\"gray\")\n",
    "        elif activation_max != -1:\n",
    "            plt.imshow(activation[0,:,:, featuremap], interpolation=\"nearest\", vmax=activation_max, cmap=\"gray\")\n",
    "        elif activation_min !=-1:\n",
    "            plt.imshow(activation[0,:,:, featuremap], interpolation=\"nearest\", vmin=activation_min, cmap=\"gray\")\n",
    "        else:\n",
    "            plt.imshow(activation[0,:,:, featuremap], interpolation=\"nearest\", cmap=\"gray\")"
   ]
  },
  {
   "cell_type": "code",
   "execution_count": null,
   "metadata": {
    "collapsed": false,
    "deletable": true,
    "editable": true
   },
   "outputs": [],
   "source": [
    "import tensorflow as tf\n",
    "mu = 0\n",
    "sigma = 0.1\n",
    "    \n",
    "# SOLUTION: Layer 1: Convolutional. Input = 32x32x1. Output = 28x28x6.\n",
    "conv1_W = tf.Variable(tf.truncated_normal(shape=(5, 5, 3, 6), mean = mu, stddev = sigma))\n",
    "conv1_b = tf.Variable(tf.zeros(6))\n",
    "conv1   = tf.nn.conv2d(x, conv1_W, strides=[1, 1, 1, 1], padding='VALID') + conv1_b\n",
    "\n",
    "# SOLUTION: Layer 2: Convolutional. Output = 10x10x16.\n",
    "conv2_W = tf.Variable(tf.truncated_normal(shape=(5, 5, 6, 16), mean = mu, stddev = sigma))\n",
    "conv2_b = tf.Variable(tf.zeros(16))\n",
    "conv2   = tf.nn.conv2d(conv1, conv2_W, strides=[1, 1, 1, 1], padding='VALID') + conv2_b\n",
    "\n",
    "with tf.Session() as sess:\n",
    "    saver.restore(sess, tf.train.latest_checkpoint('.'))\n",
    "    sess.run(tf.global_variables_initializer())\n",
    "    tf_conv1 = sess.run(conv1, feed_dict={x: images})\n",
    "    outputFeatureMap(images, conv1)\n",
    "    tf_conv2 = sess.run(conv2, feed_dict={x: images})\n",
    "    outputFeatureMap(images, conv2)"
   ]
  },
  {
   "cell_type": "code",
   "execution_count": null,
   "metadata": {
    "collapsed": false,
    "deletable": true,
    "editable": true
   },
   "outputs": [],
   "source": [
    "mu = 0\n",
    "sigma = 0.1\n",
    "\n",
    "# TODO: Layer 1: Convolutional. Input = 32x32x1. Output = 28x28x6.\n",
    "weight1 = tf.Variable(tf.random_normal([4, 4, 3, 6],mean=mu, stddev=sigma))\n",
    "weight2 = tf.Variable(tf.random_normal([4, 4, 6, 16],mean=mu, stddev=sigma))\n",
    "bias1 = tf.Variable(tf.random_normal([6],mean=mu, stddev=sigma))\n",
    "\n",
    "conv1 = tf.nn.conv2d(x, weight1, strides=[1, 1, 1, 1], padding='VALID')\n",
    "#conv1 = tf.nn.bias_add(conv1, bias1)\n",
    "    \n",
    "# TODO: Activation.\n",
    "#conv1 = tf.nn.relu(conv1)\n",
    "#  Adding Dropout \n",
    "#conv1 = tf.nn.dropout(conv1, keep_prob)\n",
    "# TODO: Pooling. Input = 28x28x6. Output = 14x14x6.\n",
    "#conv1 = tf.nn.max_pool(\n",
    "#    conv1,\n",
    "#    ksize=[1, 2, 2, 1],\n",
    "#    strides=[1, 2, 2, 1],\n",
    "#    padding='VALID')\n",
    "# TODO: Layer 2: Convolutional. Output = 10x10x16.\n",
    "conv2 = tf.nn.conv2d(conv1, weight2, strides=[1, 1, 1, 1], padding='VALID')\n",
    "    \n",
    "    \n",
    "with tf.Session() as sess:\n",
    "    saver.restore(sess, tf.train.latest_checkpoint('.'))\n",
    "    sess.run(tf.global_variables_initializer())\n",
    "    tf_conv1 = sess.run(conv1, feed_dict={x: images})\n",
    "    outputFeatureMap(images, conv1)\n",
    "    tf_conv2 = sess.run(conv2, feed_dict={x: images})\n",
    "    outputFeatureMap(images, conv2)    "
   ]
  },
  {
   "cell_type": "markdown",
   "metadata": {
    "deletable": true,
    "editable": true
   },
   "source": [
    "### Question 9\n",
    "\n",
    "Discuss how you used the visual output of your trained network's feature maps to show that it had learned to look for interesting characteristics in traffic sign images\n"
   ]
  },
  {
   "cell_type": "markdown",
   "metadata": {
    "deletable": true,
    "editable": true
   },
   "source": [
    "**Answer:**"
   ]
  },
  {
   "cell_type": "markdown",
   "metadata": {
    "deletable": true,
    "editable": true
   },
   "source": [
    "> **Note**: Once you have completed all of the code implementations and successfully answered each question above, you may finalize your work by exporting the iPython Notebook as an HTML document. You can do this by using the menu above and navigating to  \\n\",\n",
    "    \"**File -> Download as -> HTML (.html)**. Include the finished document along with this notebook as your submission."
   ]
  },
  {
   "cell_type": "markdown",
   "metadata": {
    "deletable": true,
    "editable": true
   },
   "source": [
    "### Project Writeup\n",
    "\n",
    "Once you have completed the code implementation, document your results in a project writeup using this [template](https://github.com/udacity/CarND-Traffic-Sign-Classifier-Project/blob/master/writeup_template.md) as a guide. The writeup can be in a markdown or pdf file. "
   ]
  },
  {
   "cell_type": "code",
   "execution_count": null,
   "metadata": {
    "collapsed": true
   },
   "outputs": [],
   "source": []
  },
  {
   "cell_type": "code",
   "execution_count": null,
   "metadata": {
    "collapsed": true
   },
   "outputs": [],
   "source": []
  }
 ],
 "metadata": {
  "anaconda-cloud": {},
  "kernelspec": {
   "display_name": "Python 3",
   "language": "python",
   "name": "python3"
  },
  "language_info": {
   "codemirror_mode": {
    "name": "ipython",
    "version": 3
   },
   "file_extension": ".py",
   "mimetype": "text/x-python",
   "name": "python",
   "nbconvert_exporter": "python",
   "pygments_lexer": "ipython3",
   "version": "3.5.2"
  },
  "widgets": {
   "state": {},
   "version": "1.1.2"
  }
 },
 "nbformat": 4,
 "nbformat_minor": 1
}
